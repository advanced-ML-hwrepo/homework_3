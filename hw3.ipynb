{
  "cells": [
    {
      "cell_type": "markdown",
      "metadata": {
        "id": "view-in-github",
        "colab_type": "text"
      },
      "source": [
        "<a href=\"https://colab.research.google.com/github/advanced-ML-hwrepo/homework_3/blob/master/hw3.ipynb\" target=\"_parent\"><img src=\"https://colab.research.google.com/assets/colab-badge.svg\" alt=\"Open In Colab\"/></a>"
      ]
    },
    {
      "cell_type": "markdown",
      "metadata": {
        "id": "wNgJbutEMCZc"
      },
      "source": [
        "# HW3\n",
        "\n",
        "In this homeowork, we will\n",
        "- Build a neural network based part of speech (POS) tagger [35 points].\n",
        "- Run the model on a GPU at Google Colab [10].\n",
        "- Extend the model to use pretrained embeddings [15].\n",
        "- Extend the model in some manner of your own choosing [30].\n",
        "\n",
        "There are a total of 8 tasks.\n",
        "\n",
        "Acknowledgements: Part of this homework were adapted from work done by\n",
        "[Ben Trevett](https://github.com/bentrevett) and\n",
        "[Kevin Gimpel](https://home.ttic.edu/~kgimpel/)."
      ]
    },
    {
      "cell_type": "markdown",
      "metadata": {
        "id": "FTMj7KFmMCZg"
      },
      "source": [
        "### Installing libraries\n",
        "\n",
        "This homework requires you to install the following libraries, which are the current latest versions.  They are not, however, the default versions installed by, say, Anaconda.  The code has been tested on these versions; but it is possible it works on other versions as well.\n",
        "\n",
        "- PyTorch 1.11.0\n",
        "- torchtext 0.12.0\n",
        "- TorchData 0.3.0\n",
        "\n",
        "You may need to read some of the documentation for these libraries to solve this homework.\n",
        "\n",
        "Since these libraries are evolving rapidly, you may get some warnings.  Please ignore them unless the code later breaks down.\n",
        "\n",
        "When working with colab, in a new runtime, you'll have to install the above libraries. (Once installed you usually do not need reinstallation if you, e.g., restart the runtime.)  One way to install them is via the following commands (they automatically update PyTorch).\n",
        "\n",
        "`!pip install torchtext==0.12.0`\n",
        "\n",
        "`!pip install torchdata==0.3.0`"
      ]
    },
    {
      "cell_type": "code",
      "source": [
        "#fixing version error \n",
        "#!pip install torchtext==0.12.0\n",
        "#!pip install torchdata==0.3.0"
      ],
      "metadata": {
        "id": "jUkcBgNayUpc"
      },
      "execution_count": null,
      "outputs": []
    },
    {
      "cell_type": "code",
      "execution_count": null,
      "metadata": {
        "id": "A8sUns9WMCZh"
      },
      "outputs": [],
      "source": [
        "import torch\n",
        "import torch.nn as nn\n",
        "import torch.optim as optim\n",
        "\n",
        "import torchtext\n",
        "from torchtext import data\n",
        "from torchtext import datasets\n",
        "\n",
        "from collections import Counter\n",
        "from torchtext.vocab import vocab\n",
        "\n",
        "import numpy as np\n",
        "import random"
      ]
    },
    {
      "cell_type": "code",
      "execution_count": null,
      "metadata": {
        "colab": {
          "base_uri": "https://localhost:8080/"
        },
        "id": "ZCeK4J1iMCZj",
        "outputId": "032a42a9-16bb-4da0-d266-5e72498f3e2e"
      },
      "outputs": [
        {
          "output_type": "execute_result",
          "data": {
            "text/plain": [
              "('1.11.0+cu102', '0.12.0')"
            ]
          },
          "metadata": {},
          "execution_count": 3
        }
      ],
      "source": [
        "# Check the library versions\n",
        "torch.__version__, torchtext.__version__"
      ]
    },
    {
      "cell_type": "code",
      "execution_count": null,
      "metadata": {
        "id": "TpO4vYGmMCZj"
      },
      "outputs": [],
      "source": [
        "SEED = 30255 # Specify a seed for reproducability\n",
        "\n",
        "random.seed(SEED)\n",
        "np.random.seed(SEED)\n",
        "torch.manual_seed(SEED)\n",
        "if torch.cuda.is_available():\n",
        "    torch.cuda.manual_seed(53113)\n",
        "torch.backends.cudnn.deterministic = True"
      ]
    },
    {
      "cell_type": "markdown",
      "metadata": {
        "id": "at0T6odtMCZk"
      },
      "source": [
        "### Using GPUs\n",
        "\n",
        "We want our code to run on a CPU or on a [GPU](https://en.wikipedia.org/wiki/Graphics_processing_unit) when available, as on Google Colab.  The code will likely run at least five times as fast on a GPU. PyTorch connects with a GPU via the system interface [CUDA](https://en.wikipedia.org/wiki/CUDA).\n",
        "\n",
        "The following tells us whether CUDA/GPU is available or not.  The changes you have to make so that your code can use a GPU when available are surprisingly small. All such changes have already been made in the provided code below. They are:\n",
        "- the data loader needs to place the input to the model appropriately using `to(device).`\n",
        "- similarly, the model object itself needs to be placed appropriately using `to(device).`\n"
      ]
    },
    {
      "cell_type": "code",
      "execution_count": null,
      "metadata": {
        "colab": {
          "base_uri": "https://localhost:8080/"
        },
        "id": "76f249T0MCZl",
        "outputId": "2ce4ca3f-c289-4427-ff35-84e3b21c39ab"
      },
      "outputs": [
        {
          "output_type": "execute_result",
          "data": {
            "text/plain": [
              "device(type='cuda')"
            ]
          },
          "metadata": {},
          "execution_count": 5
        }
      ],
      "source": [
        "device = torch.device('cuda' if torch.cuda.is_available() else 'cpu')\n",
        "device"
      ]
    },
    {
      "cell_type": "markdown",
      "metadata": {
        "id": "q8zYzuAyMCZm"
      },
      "source": [
        "### Cache for GloVe\n",
        "\n",
        "If you have already downloaded GloVe in a directory, you can reuse it.  Please change the following if so."
      ]
    },
    {
      "cell_type": "code",
      "execution_count": null,
      "metadata": {
        "id": "tJ6v4eQ_MCZn"
      },
      "outputs": [],
      "source": [
        "if device == 'cpu':\n",
        "    VECTORS_CACHE_DIR = '/Users/amitabh/.vector_cache'\n",
        "    # Please change above to your cache\n",
        "else:\n",
        "    VECTORS_CACHE_DIR = './.vector_cache'\n",
        "    # This is the default cache on Colab. Caching may not work\n",
        "    # as expected on Colab."
      ]
    },
    {
      "cell_type": "markdown",
      "metadata": {
        "id": "WCenLa8jMCZo"
      },
      "source": [
        "### UDPOS Dataset\n",
        "\n",
        "We'll work with the [`UDPOS`](https://pytorch.org/text/stable/datasets.html#udpos) dataset included with torchtext.  It contains about 12,500 sentences and the POS tags for the each word.  There are, in fact, two sets of tags, based on two different POS tagging standards: [Universal Dependency](https://universaldependencies.org/u/pos/) (UD) and [Penn Treebank](https://www.sketchengine.eu/penn-treebank-tagset/) (PTB). It has additionally about 2000 sentences in the validation and test sets.  The words and corresonding tags are organized into lists."
      ]
    },
    {
      "cell_type": "code",
      "execution_count": null,
      "metadata": {
        "colab": {
          "base_uri": "https://localhost:8080/"
        },
        "id": "2bZCsuNrMCZp",
        "outputId": "fd1478b9-460e-4823-fe6c-3022d36fe17d"
      },
      "outputs": [
        {
          "output_type": "stream",
          "name": "stdout",
          "text": [
            "The sentence for Example 0 ---\n",
            "['Al', '-', 'Zaman', ':', 'American', 'forces', 'killed', 'Shaikh', 'Abdullah', 'al', '-', 'Ani', ',', 'the', 'preacher', 'at', 'the', 'mosque', 'in', 'the', 'town', 'of', 'Qaim', ',', 'near', 'the', 'Syrian', 'border', '.']\n",
            "The UD tags for Example 0 ---\n",
            "['PROPN', 'PUNCT', 'PROPN', 'PUNCT', 'ADJ', 'NOUN', 'VERB', 'PROPN', 'PROPN', 'PROPN', 'PUNCT', 'PROPN', 'PUNCT', 'DET', 'NOUN', 'ADP', 'DET', 'NOUN', 'ADP', 'DET', 'NOUN', 'ADP', 'PROPN', 'PUNCT', 'ADP', 'DET', 'ADJ', 'NOUN', 'PUNCT']\n",
            "The PTB tags for Example 0 ---\n",
            "['NNP', 'HYPH', 'NNP', ':', 'JJ', 'NNS', 'VBD', 'NNP', 'NNP', 'NNP', 'HYPH', 'NNP', ',', 'DT', 'NN', 'IN', 'DT', 'NN', 'IN', 'DT', 'NN', 'IN', 'NNP', ',', 'IN', 'DT', 'JJ', 'NN', '.']\n",
            "\n",
            "The sentence for Example 1 ---\n",
            "['[', 'This', 'killing', 'of', 'a', 'respected', 'cleric', 'will', 'be', 'causing', 'us', 'trouble', 'for', 'years', 'to', 'come', '.', ']']\n",
            "The UD tags for Example 1 ---\n",
            "['PUNCT', 'DET', 'NOUN', 'ADP', 'DET', 'ADJ', 'NOUN', 'AUX', 'AUX', 'VERB', 'PRON', 'NOUN', 'ADP', 'NOUN', 'PART', 'VERB', 'PUNCT', 'PUNCT']\n",
            "The PTB tags for Example 1 ---\n",
            "['-LRB-', 'DT', 'NN', 'IN', 'DT', 'JJ', 'NN', 'MD', 'VB', 'VBG', 'PRP', 'NN', 'IN', 'NNS', 'TO', 'VB', '.', '-RRB-']\n",
            "\n",
            "The sentence for Example 2 ---\n",
            "['DPA', ':', 'Iraqi', 'authorities', 'announced', 'that', 'they', 'had', 'busted', 'up', '3', 'terrorist', 'cells', 'operating', 'in', 'Baghdad', '.']\n",
            "The UD tags for Example 2 ---\n",
            "['PROPN', 'PUNCT', 'ADJ', 'NOUN', 'VERB', 'SCONJ', 'PRON', 'AUX', 'VERB', 'ADP', 'NUM', 'ADJ', 'NOUN', 'VERB', 'ADP', 'PROPN', 'PUNCT']\n",
            "The PTB tags for Example 2 ---\n",
            "['NNP', ':', 'JJ', 'NNS', 'VBD', 'IN', 'PRP', 'VBD', 'VBN', 'RP', 'CD', 'JJ', 'NNS', 'VBG', 'IN', 'NNP', '.']\n",
            "\n"
          ]
        }
      ],
      "source": [
        "train_iter = datasets.UDPOS(split = 'train')\n",
        "\n",
        "for i, example in enumerate(train_iter):\n",
        "    print(f'The sentence for Example {i} ---')\n",
        "    print(example[0])\n",
        "    print(f'The UD tags for Example {i} ---')\n",
        "    print(example[1])\n",
        "    print(f'The PTB tags for Example {i} ---')\n",
        "    print(example[2])\n",
        "    print()\n",
        "    if i == 2: break"
      ]
    },
    {
      "cell_type": "markdown",
      "metadata": {
        "id": "CiFmiUJzMCZp"
      },
      "source": [
        "### Preprocessing\n",
        "\n",
        "In our neural network-based model we can only accept fixed sized inputs.  Each input corresponds to a subsequence, consisting of a  center word and a number $w$ of words before and after, and the label is the POS tag for the center word. We often refer to the subsequence as a window of size $(2w + 1)$.\n",
        "\n",
        "So given a sentence, say, \"This killing of a respected cleric.' with, tags, say 'DET', 'NOUN', 'ADP', 'DET', 'ADJ', 'NOUN', 'PUNCT' (the last tag is for the period at the end of the sentence), some of our input examples for the model are the following (for $w = 1$):\n",
        "- \"This killing of\", 'NOUN'\n",
        "- \"killing of a\", 'ADP'\n",
        "- \"respected cleric.\", 'NOUN'.\n",
        "\n",
        "But the above scheme would imply that, when $w = 1$, the tags of the first and last words for any sentence would never be part of an example.  To avoid that, we add dummy '\\<s>' and '\\</s>' words, and corresponding tags, to the beginning and end of each sentence.  We need to add as many dummy words as $w$.  So if $w = 2$, we first convert the above sentence and its tags to\n",
        "- \"\\<s> \\<s> This killing of a respected cleric. \\</s> \\</s>' \n",
        "- 'STAG', 'STAG','DET', 'NOUN', 'ADP', 'DET', 'ADJ', 'NOUN', 'PUNCT', 'ETAG', 'ETAG'. \n",
        "\n",
        "**Task 1** [5 points]: Most of the code for preprocessing is given below.  But some parts are missing.  Complete the code."
      ]
    },
    {
      "cell_type": "code",
      "execution_count": null,
      "metadata": {
        "colab": {
          "base_uri": "https://localhost:8080/"
        },
        "id": "NjoPYbtFMCZq",
        "outputId": "85c1de3a-dcf4-4d12-f940-dfacd5ae4b33"
      },
      "outputs": [
        {
          "output_type": "stream",
          "name": "stdout",
          "text": [
            "Test passed.\n"
          ]
        }
      ],
      "source": [
        "W = 1\n",
        "WINDOW_SIZE = (2 * W + 1)\n",
        "\n",
        "SENT_START_WORD = '<s>'\n",
        "SENT_END_WORD = '</s>'\n",
        "SENT_START_TAG = '<STAG>'\n",
        "SENT_END_TAG = '<ETAG>'\n",
        "\n",
        "\n",
        "def add_sent_start_end(data_iter, w):\n",
        "    for (words, ud_tags, ptb_tags) in data_iter:\n",
        "        new_words = [SENT_START_WORD] * w + words + [SENT_END_WORD] * w\n",
        "        new_ud_tags = [SENT_START_TAG] * w + ud_tags + [SENT_END_TAG] * w\n",
        "        ## added ptb tags\n",
        "        new_ptb_tags = [SENT_START_TAG] * w + ptb_tags + [SENT_END_TAG] * w\n",
        "        yield(new_words, new_ud_tags, new_ptb_tags)\n",
        "        \n",
        "def create_windows(data_iter, w):\n",
        "    window_size = 2*w + 1\n",
        "    for (words, ud_tags, ptb_tags) in data_iter:\n",
        "        words_zip = zip(*[words[i:] for i in range(window_size)])\n",
        "        ud_zip = zip(*[ud_tags[i:] for i in range(window_size)])\n",
        "        ptb_zip = zip(*[ptb_tags[i:] for i in range(window_size)])\n",
        "        for word_sseq, ud_sseq, ptb_sseq in zip(\n",
        "                words_zip, ud_zip, ptb_zip):\n",
        "            yield(word_sseq, ud_sseq, ptb_sseq)\n",
        "            \n",
        "def preprocess_data_seq(data_iter, w):\n",
        "     \n",
        "     for data_iter_i in create_windows(add_sent_start_end(data_iter, w), w):\n",
        "        yield(data_iter_i)\n",
        "\n",
        "\n",
        "def test_preprocess_data_seq():\n",
        "    \n",
        "    # WARNING: The following test assumes a particular default\n",
        "    # sequence of examples in the PyTorch UDPOS dataset. If you\n",
        "    # suspect the sequence is different for your dataset, please\n",
        "    # adapt the test.\n",
        "\n",
        "    train_iter_0 = datasets.UDPOS(split = 'train')    \n",
        "    train_iter_demo = preprocess_data_seq(train_iter_0, 1)\n",
        "    ex0 = (('<s>', 'Al', '-'), \n",
        "           ('<STAG>', 'PROPN', 'PUNCT'), \n",
        "           ('<STAG>', 'NNP', 'HYPH'))\n",
        "    ex1 = (('Al', '-', 'Zaman'), \n",
        "           ('PROPN', 'PUNCT', 'PROPN'), \n",
        "           ('NNP', 'HYPH', 'NNP'))\n",
        "    ex2 = (('-', 'Zaman', ':'), \n",
        "           ('PUNCT', 'PROPN', 'PUNCT'), \n",
        "           ('HYPH', 'NNP', ':'))\n",
        "    assert ex0 == next(train_iter_demo)\n",
        "    assert ex1 == next(train_iter_demo)\n",
        "    assert ex2 == next(train_iter_demo)\n",
        "    print('Test passed.')\n",
        "    \n",
        "test_preprocess_data_seq()"
      ]
    },
    {
      "cell_type": "markdown",
      "metadata": {
        "id": "jFZVoVUvMCZq"
      },
      "source": [
        "### Create vocabularies for words and tags\n",
        "\n",
        "Since the number of tags is reasonably large, we use the `Vocab` class to create objects `vocab_words`, `vocab_ud`, and `vocab_ptb` for both words and the two sets of tags from the training set."
      ]
    },
    {
      "cell_type": "code",
      "execution_count": null,
      "metadata": {
        "id": "XgnUAz1AMCZr"
      },
      "outputs": [],
      "source": [
        "# It is important to recreate the training set afresh \n",
        "# each time they are used, since they are Python iterators, and\n",
        "# once use, cannot be reused.  One could, however, cast them into\n",
        "# a list, which would store them permanently.\n",
        "\n",
        "train_iter_0 = datasets.UDPOS(split = 'train')    \n",
        "train_iter_vocab = preprocess_data_seq(train_iter_0, 1)\n",
        "\n",
        "counter_words = Counter()\n",
        "counter_ud = Counter()\n",
        "counter_ptb = Counter()\n",
        "for (text, pos_ud, pos_ptb) in train_iter_vocab:\n",
        "    counter_words.update(text)\n",
        "    counter_ud.update(pos_ud)\n",
        "    counter_ptb.update(pos_ptb)"
      ]
    },
    {
      "cell_type": "code",
      "source": [
        "vocab_words = vocab(counter_words, specials = ['<unk>'], special_first = True)\n",
        "vocab_words.set_default_index(0)\n",
        "vocab_ud = vocab(counter_ud)\n",
        "vocab_ptb = vocab(counter_ptb)"
      ],
      "metadata": {
        "id": "hGWVjlqfEIQ8"
      },
      "execution_count": null,
      "outputs": []
    },
    {
      "cell_type": "markdown",
      "metadata": {
        "id": "2QCHmyQdMCZr"
      },
      "source": [
        "Observe that we set a special word for vocab_words, but none for vocab_ud or vocab_ptb.  Why is that? (You don't have to submit an answer.)"
      ]
    },
    {
      "cell_type": "markdown",
      "metadata": {
        "id": "EeugkxaFMCZr"
      },
      "source": [
        "### Collate function for customized data loader\n",
        "\n",
        "**Task 2** [10]: Write a collate function that takes a batch of examples, and for a given window width and tag type, returns the following\n",
        "- a tensor corresponding to the index of the tag for the center word in each example of the batch. Recall, each example is a window with a width of $(2w + 1)$ words.\n",
        "- a tensor corresponding to the index of each of the words in the example, according the to vocabulary for words.\n",
        "\n",
        "Note: The collate function is called by the data loader with the batch of examples from the data set.  So any additional parameters to the function should have default values.\n",
        "\n",
        "From this task onwards we'll only work with the UD tags."
      ]
    },
    {
      "cell_type": "code",
      "execution_count": null,
      "metadata": {
        "id": "eh5t6Z_CMCZr",
        "colab": {
          "base_uri": "https://localhost:8080/"
        },
        "outputId": "8e9af21f-eb6c-4922-acc1-9c799c4b5475"
      },
      "outputs": [
        {
          "output_type": "stream",
          "name": "stdout",
          "text": [
            "test_collate passed\n"
          ]
        }
      ],
      "source": [
        "from torch.utils.data import DataLoader\n",
        "\n",
        "TAG = 'ud'\n",
        "\n",
        "def collate_fn(batch, w = W, tag = TAG):\n",
        "\n",
        "    word_idxs = []\n",
        "    labels = []\n",
        "    for index, example in enumerate(batch):\n",
        "      if tag == \"ud\":\n",
        "        word_idxs.append(vocab_words(list(example[0])))\n",
        "        pos_tag = example[1][(2 * w + 1) // 2]\n",
        "        labels.append(pos_tag)\n",
        "    word_idxs = torch.tensor(word_idxs)\n",
        "    labels = vocab_ud(labels)\n",
        "    labels = torch.tensor(labels)\n",
        "\n",
        "    # The tensors you return should be placed in the correct device\n",
        "    # as shown below.\n",
        "    return labels.to(device), word_idxs.to(device)\n",
        "\n",
        "\n",
        "def test_collate():\n",
        "    \n",
        "    pos = [5, 6, 1, 4]  \n",
        "    examples = []\n",
        "    for perm in ['03022', '33210', '33211', '11101']:\n",
        "        words = []\n",
        "        utags = []\n",
        "        ptags = []\n",
        "        for ind in perm:\n",
        "            ind = int(ind)\n",
        "            words.append(vocab_words.lookup_token(pos[ind]))\n",
        "            utags.append(vocab_ud.lookup_token(pos[ind]+1))\n",
        "            ptags.append(vocab_ptb.lookup_token(pos[ind]))\n",
        "        examples.append((words, utags, ptags))\n",
        "    lt =  torch.tensor([5, 1, 1, 6]).to(device)\n",
        "    lt =  torch.tensor([6, 2, 2, 7]).to(device)\n",
        "    wt = torch.tensor([\n",
        "        [5, 4, 5, 1, 1],\n",
        "        [4, 4, 1, 6, 5],\n",
        "        [4, 4, 1, 6, 6],\n",
        "        [6, 6, 6, 5, 6]]).to(device)\n",
        "    rlt, rwt = collate_fn(examples, w = 2)\n",
        "    assert torch.equal(lt, rlt)\n",
        "    assert torch.equal(wt, rwt)\n",
        "    print('test_collate passed')\n",
        "\n",
        "test_collate()\n",
        "    "
      ]
    },
    {
      "cell_type": "markdown",
      "metadata": {
        "id": "E2ieHUMOMCZs"
      },
      "source": [
        "### Writing the class for the neural network model\n",
        "\n",
        "**Task 3** [15]: Write a class that implements the following neural network for input $(w_1, w_2, w_3)$ and label $y$ corresponding to tag of $w_2$. (Also discussed in class on April 15, 2021).\n",
        "$$\n",
        "\\begin{eqnarray*}\n",
        "x &=& [E_{[w_1]}, E_{[w_2]}, E_{[w_3]}] \\\\\n",
        "h &=& \\text{tanh}(x W^1 + b^1)\\\\\n",
        "\\tilde{y} & = & hW^2 + b^2\\\\\n",
        "\\hat{y} & = & \\text{softmax}(y)\\\\\n",
        "\\end{eqnarray*}\n",
        "$$\n",
        "The model returns $\\ln \\hat{y}$, and expects the training loop to use `nn.NLLLoss()` to compute the cross entropy loss, given $y$. Assume the embedding has vectors of size $300$, and $h$ is a vector of size $128$.  Please read the documentation for `nn.Embedding(),` `nn.Linear(),`, and `nn.Tanh()` to learn how to use them.\n",
        "\n",
        "*Hint:* Unlike HW2, here the input (for each example in a batch) consist of $(2w+1)$ numbers corresponding to the indices of the words in the window. These are converted to $(2w+1)$ vectors when they are passed to the embedding layer. They have to be concatenated into a single vector of length $(2w+1) \\times 300$ before they are sent to the first linear layer ($W^1$).  Use `reshape()` or `view()` in the `forward()` function below to achieve this.\n"
      ]
    },
    {
      "cell_type": "code",
      "execution_count": null,
      "metadata": {
        "id": "2UL5ulcXMCZs"
      },
      "outputs": [],
      "source": [
        "import torch.nn.functional as F\n",
        "class NNPOSTagger(nn.Module):\n",
        "    def __init__(self,\n",
        "                 window_size,\n",
        "                 vocab_size, \n",
        "                 embedding_dim, \n",
        "                 hidden_dim, \n",
        "                 output_dim,\n",
        "                 nonlinearity, \n",
        "                 # These are used for later tasks\n",
        "                 use_glove = None, \n",
        "                 freeze_glove = False):      \n",
        "        super(NNPOSTagger, self).__init__()\n",
        "        self.embedding_dim = embedding_dim\n",
        "        if use_glove is not None:\n",
        "          self.embedding = nn.Embedding.from_pretrained(use_glove, freeze_glove)\n",
        "          print(f\"Using Glove, free gloze set to {freeze_glove}\")\n",
        "        else:\n",
        "          self.embedding = nn.Embedding(vocab_size, embedding_dim)\n",
        "        self.window_size = window_size\n",
        "        \n",
        "        self.linear_layer = nn.Linear(embedding_dim, hidden_dim)\n",
        "        self.tanh = nn.Tanh()\n",
        "        self.x = None\n",
        "        self.output_layer = nn.Linear(hidden_dim, output_dim)\n",
        "        \n",
        "    def forward(self, word_idxs_batch):\n",
        "        \n",
        "        embedding = self.embedding(word_idxs_batch)\n",
        "        linear = self.linear_layer(embedding)\n",
        "        tanh_layer = self.tanh(linear)\n",
        "        output = self.output_layer(tanh_layer)\n",
        "        softmax = nn.functional.log_softmax(output)\n",
        "        softmax = softmax.mean(axis = 1)\n",
        "        return softmax"
      ]
    },
    {
      "cell_type": "markdown",
      "metadata": {
        "id": "ddiPfoSYMCZt"
      },
      "source": [
        "#### Instantiating the model\n",
        "\n",
        "PyTorch uses `to(device)` to specify whether the model is to be used with a CPU or with a GPU/CUDA."
      ]
    },
    {
      "cell_type": "code",
      "execution_count": null,
      "metadata": {
        "id": "Tx9y0thTMCZt"
      },
      "outputs": [],
      "source": [
        "model = NNPOSTagger(window_size = WINDOW_SIZE, \n",
        "                    vocab_size = len(vocab_words), \n",
        "                     embedding_dim = 300, \n",
        "                     hidden_dim = 128, \n",
        "                     output_dim = len(vocab_ud),\n",
        "                     nonlinearity = nn.Tanh(), \n",
        "                     use_glove = None,\n",
        "                     freeze_glove = False).to(device)"
      ]
    },
    {
      "cell_type": "markdown",
      "metadata": {
        "id": "E8BYSiwxMCZt"
      },
      "source": [
        "### Training an epoch\n",
        "\n",
        "**Task 4** [5]: Write a function to train one epoch of the dataset. This is similar to the code in HW2."
      ]
    },
    {
      "cell_type": "code",
      "execution_count": null,
      "metadata": {
        "id": "VD8EX7T-MCZt"
      },
      "outputs": [],
      "source": [
        "loss_function = torch.nn.NLLLoss()\n",
        "\n",
        "\n",
        "def train_an_epoch(dataloader, print_ = True):\n",
        "    model.train() # Sets the module in training mode.\n",
        "    log_interval = 500\n",
        "\n",
        "    for idx, (label, text) in enumerate(dataloader):\n",
        "        model.zero_grad()\n",
        "        log_probs = model(text)\n",
        "        loss = loss_function(log_probs, label)\n",
        "        loss.backward()\n",
        "        optimizer.step()\n",
        "        if idx % log_interval == 0 and idx > 0 and print_:\n",
        "            print(f'At iteration {idx} the loss is {loss:.3f}.')"
      ]
    },
    {
      "cell_type": "markdown",
      "metadata": {
        "id": "nazNN1pxMCZt"
      },
      "source": [
        "### Computing the accuracy\n",
        "\n",
        "The function is given below."
      ]
    },
    {
      "cell_type": "code",
      "execution_count": null,
      "metadata": {
        "id": "Pgp9pm7GMCZu"
      },
      "outputs": [],
      "source": [
        "def get_accuracy(dataloader):\n",
        "    model.eval()\n",
        "    with torch.no_grad():    \n",
        "        total_acc, total_count = 0, 0\n",
        "        for idx, (label, word_idxs) in enumerate(dataloader):\n",
        "            log_probs = model(word_idxs)\n",
        "            total_acc += (log_probs.argmax(1) == label).sum().item()\n",
        "            total_count += label.size(0)\n",
        "    return total_acc/total_count"
      ]
    },
    {
      "cell_type": "markdown",
      "metadata": {
        "id": "kxB67nvLMCZu"
      },
      "source": [
        "### Creating the data loaders"
      ]
    },
    {
      "cell_type": "code",
      "execution_count": null,
      "metadata": {
        "id": "kpGaYEc3MCZu"
      },
      "outputs": [],
      "source": [
        "BATCH_SIZE = 64 # batch size for training\n",
        "  \n",
        "train_0, valid_0, test_0 = train_data_0 = datasets.UDPOS(\n",
        "    split = ('train', 'valid', 'test'))\n",
        "train_data = list(preprocess_data_seq(train_0, W))\n",
        "valid_data = list(preprocess_data_seq(valid_0, W))\n",
        "test_data = list(preprocess_data_seq(test_0, W))\n",
        "\n",
        "train_dataloader = DataLoader(train_data, batch_size=BATCH_SIZE,\n",
        "                              shuffle=True, \n",
        "                              collate_fn=collate_fn)\n",
        "valid_dataloader = DataLoader(valid_data, batch_size=BATCH_SIZE,\n",
        "                              shuffle=False, \n",
        "                              collate_fn=collate_fn)\n",
        "test_dataloader = DataLoader(test_data, batch_size=BATCH_SIZE,\n",
        "                             shuffle=False, \n",
        "                             collate_fn=collate_fn)"
      ]
    },
    {
      "cell_type": "markdown",
      "metadata": {
        "id": "BaVByquZMCZu"
      },
      "source": [
        "### Training"
      ]
    },
    {
      "cell_type": "code",
      "execution_count": null,
      "metadata": {
        "id": "XdGX_jhxMCZu",
        "colab": {
          "base_uri": "https://localhost:8080/",
          "height": 684
        },
        "outputId": "2c936cb6-6cb6-45e4-d019-bba3545f0190"
      },
      "outputs": [
        {
          "output_type": "stream",
          "name": "stderr",
          "text": [
            "/usr/local/lib/python3.7/dist-packages/ipykernel_launcher.py:32: UserWarning: Implicit dimension choice for log_softmax has been deprecated. Change the call to include dim=X as an argument.\n"
          ]
        },
        {
          "output_type": "stream",
          "name": "stdout",
          "text": [
            "At iteration 500 the loss is 3.936.\n",
            "At iteration 1000 the loss is 3.900.\n",
            "At iteration 1500 the loss is 3.855.\n",
            "At iteration 2000 the loss is 3.826.\n",
            "At iteration 2500 the loss is 3.827.\n",
            "At iteration 3000 the loss is 3.828.\n",
            "Epoch: 1, time taken: 10.7s, validation accuracy: 0.346.\n",
            "At iteration 500 the loss is 3.835.\n",
            "At iteration 1000 the loss is 3.854.\n",
            "At iteration 1500 the loss is 3.674.\n",
            "At iteration 2000 the loss is 3.794.\n",
            "At iteration 2500 the loss is 3.804.\n",
            "At iteration 3000 the loss is 3.828.\n",
            "Epoch: 2, time taken: 10.7s, validation accuracy: 0.359.\n",
            "At iteration 500 the loss is 3.781.\n",
            "At iteration 1000 the loss is 3.830.\n",
            "At iteration 1500 the loss is 3.723.\n",
            "At iteration 2000 the loss is 3.758.\n",
            "At iteration 2500 the loss is 3.694.\n",
            "At iteration 3000 the loss is 3.774.\n",
            "Epoch: 3, time taken: 10.7s, validation accuracy: 0.370.\n"
          ]
        },
        {
          "output_type": "execute_result",
          "data": {
            "text/plain": [
              "[<matplotlib.lines.Line2D at 0x7fc4f273a590>]"
            ]
          },
          "metadata": {},
          "execution_count": 17
        },
        {
          "output_type": "display_data",
          "data": {
            "text/plain": [
              "<Figure size 432x288 with 1 Axes>"
            ],
            "image/png": "[encoded data removed]"
          },
          "metadata": {
            "needs_background": "light"
          }
        }
      ],
      "source": [
        "import time\n",
        "import matplotlib.pyplot as plt\n",
        "%matplotlib inline\n",
        "\n",
        "EPOCHS = 3 # epoch\n",
        "optimizer = torch.optim.Adam(model.parameters(), lr=1e-4)\n",
        "\n",
        "accuracies=[]\n",
        "for epoch in range(1, EPOCHS + 1):\n",
        "    epoch_start_time = time.time()\n",
        "    train_an_epoch(train_dataloader)\n",
        "    accuracy = get_accuracy(valid_dataloader)\n",
        "    accuracies.append(accuracy)\n",
        "    time_taken = time.time() - epoch_start_time\n",
        "    print(f'Epoch: {epoch}, time taken: {time_taken:.1f}s, validation accuracy: {accuracy:.3f}.')\n",
        "    \n",
        "plt.plot(range(1, EPOCHS+1), accuracies)"
      ]
    },
    {
      "cell_type": "markdown",
      "metadata": {
        "id": "KvRLSdl_MCZu"
      },
      "source": [
        "### Running on Google Colab\n",
        "\n",
        "Google Colab provides GPUs on which we can run Jupyter notebooks. These are for free as long as the job takes less than, say, 4 hours. Our job will take much less.\n",
        "\n",
        "Please create an account on Google if you don't have one.  Please read a tutorial on using Colab (such as [this](https://colab.research.google.com/notebooks/intro.ipynb)).  Upload your notebook on Colab. **Change the runtime type to GPU.** Make any changes required to get your code to run on Colab. (Normally there should  be no change required.) \n",
        "\n",
        "For all following tasks that required running your code for several epochs, we recommend developing your code locally, but finally running it on Colab to get the results.\n",
        "\n",
        "**Task 5** [10]: Run the model for a sufficient number of epochs (not more than 30) such that the model shows overfitting, if at all, and submit a pdf of the plot of accuracy against number of epochs. Determine the optimal number of epochs to train for. Write code to estimate the accuracy of your model (using the test set) corresponding to this optimal number of epocs and report this estimated accuracy."
      ]
    },
    {
      "cell_type": "code",
      "source": [
        "model = NNPOSTagger(window_size = WINDOW_SIZE, \n",
        "                    vocab_size = len(vocab_words), \n",
        "                     embedding_dim = 300, \n",
        "                     hidden_dim = 128, \n",
        "                     output_dim = len(vocab_ud),\n",
        "                     nonlinearity = nn.Tanh(), \n",
        "                     use_glove = None,\n",
        "                     freeze_glove = False).to(device)\n",
        "\n",
        "EPOCHS = 10 # epoch\n",
        "optimizer = torch.optim.Adam(model.parameters(), lr=1e-4)\n",
        "\n",
        "accuracies=[]\n",
        "for epoch in range(1, EPOCHS + 1):\n",
        "    epoch_start_time = time.time()\n",
        "    train_an_epoch(train_dataloader)\n",
        "    accuracy = get_accuracy(valid_dataloader)\n",
        "    accuracies.append(accuracy)\n",
        "    time_taken = time.time() - epoch_start_time\n",
        "    print(f'Epoch: {epoch}, time taken: {time_taken:.1f}s, validation accuracy: {accuracy:.3f}.')\n",
        "    \n",
        "plt.plot(range(1, EPOCHS+1), accuracies)"
      ],
      "metadata": {
        "colab": {
          "base_uri": "https://localhost:8080/",
          "height": 1000
        },
        "id": "5HIrie6zKnUc",
        "outputId": "b4f63e7b-a0da-4811-e214-3d9764f1f95c"
      },
      "execution_count": null,
      "outputs": [
        {
          "output_type": "stream",
          "name": "stderr",
          "text": [
            "/usr/local/lib/python3.7/dist-packages/ipykernel_launcher.py:33: UserWarning: Implicit dimension choice for log_softmax has been deprecated. Change the call to include dim=X as an argument.\n"
          ]
        },
        {
          "output_type": "stream",
          "name": "stdout",
          "text": [
            "At iteration 500 the loss is 3.993.\n",
            "At iteration 1000 the loss is 3.876.\n",
            "At iteration 1500 the loss is 3.893.\n",
            "At iteration 2000 the loss is 3.867.\n",
            "At iteration 2500 the loss is 3.882.\n",
            "At iteration 3000 the loss is 3.807.\n",
            "Epoch: 1, time taken: 10.7s, validation accuracy: 0.326.\n",
            "At iteration 500 the loss is 3.760.\n",
            "At iteration 1000 the loss is 3.804.\n",
            "At iteration 1500 the loss is 3.844.\n",
            "At iteration 2000 the loss is 3.851.\n",
            "At iteration 2500 the loss is 3.805.\n",
            "At iteration 3000 the loss is 3.882.\n",
            "Epoch: 2, time taken: 10.7s, validation accuracy: 0.343.\n",
            "At iteration 500 the loss is 3.813.\n",
            "At iteration 1000 the loss is 3.817.\n",
            "At iteration 1500 the loss is 3.773.\n",
            "At iteration 2000 the loss is 3.753.\n",
            "At iteration 2500 the loss is 3.775.\n",
            "At iteration 3000 the loss is 3.676.\n",
            "Epoch: 3, time taken: 10.6s, validation accuracy: 0.358.\n",
            "At iteration 500 the loss is 3.783.\n",
            "At iteration 1000 the loss is 3.763.\n",
            "At iteration 1500 the loss is 3.725.\n",
            "At iteration 2000 the loss is 3.885.\n",
            "At iteration 2500 the loss is 3.748.\n",
            "At iteration 3000 the loss is 3.694.\n",
            "Epoch: 4, time taken: 11.1s, validation accuracy: 0.368.\n",
            "At iteration 500 the loss is 3.757.\n",
            "At iteration 1000 the loss is 3.706.\n",
            "At iteration 1500 the loss is 3.838.\n",
            "At iteration 2000 the loss is 3.604.\n",
            "At iteration 2500 the loss is 3.638.\n",
            "At iteration 3000 the loss is 3.735.\n",
            "Epoch: 5, time taken: 10.7s, validation accuracy: 0.376.\n",
            "At iteration 500 the loss is 3.765.\n",
            "At iteration 1000 the loss is 3.692.\n",
            "At iteration 1500 the loss is 3.663.\n",
            "At iteration 2000 the loss is 3.662.\n",
            "At iteration 2500 the loss is 3.670.\n",
            "At iteration 3000 the loss is 3.602.\n",
            "Epoch: 6, time taken: 10.9s, validation accuracy: 0.380.\n",
            "At iteration 500 the loss is 3.632.\n",
            "At iteration 1000 the loss is 3.641.\n",
            "At iteration 1500 the loss is 3.578.\n",
            "At iteration 2000 the loss is 3.713.\n",
            "At iteration 2500 the loss is 3.711.\n",
            "At iteration 3000 the loss is 3.725.\n",
            "Epoch: 7, time taken: 10.7s, validation accuracy: 0.387.\n",
            "At iteration 500 the loss is 3.624.\n",
            "At iteration 1000 the loss is 3.761.\n",
            "At iteration 1500 the loss is 3.561.\n",
            "At iteration 2000 the loss is 3.726.\n",
            "At iteration 2500 the loss is 3.787.\n",
            "At iteration 3000 the loss is 3.686.\n",
            "Epoch: 8, time taken: 10.7s, validation accuracy: 0.391.\n",
            "At iteration 500 the loss is 3.689.\n",
            "At iteration 1000 the loss is 3.575.\n",
            "At iteration 1500 the loss is 3.625.\n",
            "At iteration 2000 the loss is 3.578.\n",
            "At iteration 2500 the loss is 3.635.\n",
            "At iteration 3000 the loss is 3.620.\n",
            "Epoch: 9, time taken: 11.1s, validation accuracy: 0.394.\n",
            "At iteration 500 the loss is 3.684.\n",
            "At iteration 1000 the loss is 3.553.\n",
            "At iteration 1500 the loss is 3.634.\n",
            "At iteration 2000 the loss is 3.609.\n",
            "At iteration 2500 the loss is 3.679.\n",
            "At iteration 3000 the loss is 3.657.\n",
            "Epoch: 10, time taken: 10.7s, validation accuracy: 0.400.\n"
          ]
        },
        {
          "output_type": "execute_result",
          "data": {
            "text/plain": [
              "[<matplotlib.lines.Line2D at 0x7fc4d8dbc650>]"
            ]
          },
          "metadata": {},
          "execution_count": 39
        },
        {
          "output_type": "display_data",
          "data": {
            "text/plain": [
              "<Figure size 432x288 with 1 Axes>"
            ],
            "image/png": "[encoded data removed]"
          },
          "metadata": {
            "needs_background": "light"
          }
        }
      ]
    },
    {
      "cell_type": "markdown",
      "metadata": {
        "id": "URz5DUsoMCZu"
      },
      "source": [
        "### Initializing with pre-trained embeddings\n",
        "\n",
        "In the above model, the embedding matrix is initialized to either zero or random vectors, but trained along with the rest of the parameters. It may help to initialize the embedding matrix from GloVe vector embeddings. You may then choose to freeze the embedding matrix (i.e., not update the vectors during training) or train them to adapt to the POS examples. (For further details you may optionally read Section 10.1--3 from the Goldberg textbook.)\n",
        "\n",
        "The following code snippet creates a embedding matrix that has a vector corresponding to each of our `vocab_words` created from the training set."
      ]
    },
    {
      "cell_type": "code",
      "execution_count": null,
      "metadata": {
        "id": "_7TgLzHEMCZv",
        "colab": {
          "base_uri": "https://localhost:8080/"
        },
        "outputId": "b2e97a74-729b-48c7-a60b-7c5f0ec90aad"
      },
      "outputs": [
        {
          "output_type": "stream",
          "name": "stderr",
          "text": [
            "./.vector_cache/glove.6B.zip: 862MB [02:41, 5.34MB/s]                           \n",
            "100%|█████████▉| 399999/400000 [00:38<00:00, 10398.30it/s]\n"
          ]
        }
      ],
      "source": [
        "from torchtext import vocab\n",
        "\n",
        "glove = vocab.GloVe('6B',cache=VECTORS_CACHE_DIR)\n",
        "glove_vectors = glove.get_vecs_by_tokens(vocab_words.get_itos())"
      ]
    },
    {
      "cell_type": "markdown",
      "metadata": {
        "id": "PTV2pgAiMCZv"
      },
      "source": [
        "**Task 6** [10]: Rewrite/extend the code for the module to initialize the embedding layer with `glove_vectors` created above.  Please read the documentation for the function [`nn.Embedding.from_pretrained()`](https://pytorch.org/docs/master/generated/torch.nn.Embedding.html#torch.nn.Embedding.from_pretrained) to understand how this is done. Submit corresponding plot and report on the performance when the embedding is frozen.\n",
        "\n",
        "**Task 7** [5]: Submit corresponding plot and report on the performance when the embedding is not frozen."
      ]
    },
    {
      "cell_type": "code",
      "source": [
        ""
      ],
      "metadata": {
        "id": "vtYcB1znkfmH"
      },
      "execution_count": null,
      "outputs": []
    },
    {
      "cell_type": "markdown",
      "source": [
        "## Task 6"
      ],
      "metadata": {
        "id": "xh7U-m-8kgB3"
      }
    },
    {
      "cell_type": "code",
      "source": [
        "model = NNPOSTagger(window_size = WINDOW_SIZE, \n",
        "                    vocab_size = len(vocab_words), \n",
        "                     embedding_dim = 300, \n",
        "                     hidden_dim = 128, \n",
        "                     output_dim = len(vocab_ud),\n",
        "                     nonlinearity = nn.Tanh(), \n",
        "                     use_glove = glove_vectors,\n",
        "                     freeze_glove = False).to(device)"
      ],
      "metadata": {
        "colab": {
          "base_uri": "https://localhost:8080/"
        },
        "id": "D09wEc6bke5O",
        "outputId": "770f905d-66b6-4a8c-ec21-db4d1eacf26d"
      },
      "execution_count": null,
      "outputs": [
        {
          "output_type": "stream",
          "name": "stdout",
          "text": [
            "Using Glove, free gloze set to False\n"
          ]
        }
      ]
    },
    {
      "cell_type": "code",
      "source": [
        "EPOCHS = 30 # epoch\n",
        "optimizer = torch.optim.Adam(model.parameters(), lr=1e-4)\n",
        "\n",
        "accuracies=[]\n",
        "for epoch in range(1, EPOCHS + 1):\n",
        "    epoch_start_time = time.time()\n",
        "    train_an_epoch(train_dataloader)\n",
        "    accuracy = get_accuracy(valid_dataloader)\n",
        "    accuracies.append(accuracy)\n",
        "    time_taken = time.time() - epoch_start_time\n",
        "    print(f'Epoch: {epoch}, time taken: {time_taken:.1f}s, validation accuracy: {accuracy:.3f}.')\n",
        "    \n",
        "plt.plot(range(1, EPOCHS+1), accuracies)"
      ],
      "metadata": {
        "colab": {
          "base_uri": "https://localhost:8080/",
          "height": 1000
        },
        "id": "9KjBkGbskmjQ",
        "outputId": "9a27a7f1-b0aa-4190-a2d4-cde47448c8bb"
      },
      "execution_count": null,
      "outputs": [
        {
          "output_type": "stream",
          "name": "stderr",
          "text": [
            "/usr/local/lib/python3.7/dist-packages/ipykernel_launcher.py:33: UserWarning: Implicit dimension choice for log_softmax has been deprecated. Change the call to include dim=X as an argument.\n"
          ]
        },
        {
          "output_type": "stream",
          "name": "stdout",
          "text": [
            "At iteration 500 the loss is 3.934.\n",
            "At iteration 1000 the loss is 3.791.\n",
            "At iteration 1500 the loss is 3.772.\n",
            "At iteration 2000 the loss is 3.687.\n",
            "At iteration 2500 the loss is 3.745.\n",
            "At iteration 3000 the loss is 3.713.\n",
            "Epoch: 1, time taken: 10.7s, validation accuracy: 0.379.\n",
            "At iteration 500 the loss is 3.759.\n",
            "At iteration 1000 the loss is 3.678.\n",
            "At iteration 1500 the loss is 3.616.\n",
            "At iteration 2000 the loss is 3.767.\n",
            "At iteration 2500 the loss is 3.595.\n",
            "At iteration 3000 the loss is 3.628.\n",
            "Epoch: 2, time taken: 10.7s, validation accuracy: 0.400.\n",
            "At iteration 500 the loss is 3.718.\n",
            "At iteration 1000 the loss is 3.576.\n",
            "At iteration 1500 the loss is 3.701.\n",
            "At iteration 2000 the loss is 3.565.\n",
            "At iteration 2500 the loss is 3.672.\n",
            "At iteration 3000 the loss is 3.615.\n",
            "Epoch: 3, time taken: 10.6s, validation accuracy: 0.411.\n",
            "At iteration 500 the loss is 3.671.\n",
            "At iteration 1000 the loss is 3.579.\n",
            "At iteration 1500 the loss is 3.654.\n",
            "At iteration 2000 the loss is 3.659.\n",
            "At iteration 2500 the loss is 3.749.\n",
            "At iteration 3000 the loss is 3.571.\n",
            "Epoch: 4, time taken: 10.7s, validation accuracy: 0.420.\n",
            "At iteration 500 the loss is 3.645.\n",
            "At iteration 1000 the loss is 3.621.\n",
            "At iteration 1500 the loss is 3.703.\n",
            "At iteration 2000 the loss is 3.585.\n",
            "At iteration 2500 the loss is 3.610.\n",
            "At iteration 3000 the loss is 3.660.\n",
            "Epoch: 5, time taken: 10.7s, validation accuracy: 0.422.\n",
            "At iteration 500 the loss is 3.446.\n",
            "At iteration 1000 the loss is 3.524.\n",
            "At iteration 1500 the loss is 3.519.\n",
            "At iteration 2000 the loss is 3.639.\n",
            "At iteration 2500 the loss is 3.568.\n",
            "At iteration 3000 the loss is 3.492.\n",
            "Epoch: 6, time taken: 10.7s, validation accuracy: 0.426.\n",
            "At iteration 500 the loss is 3.529.\n",
            "At iteration 1000 the loss is 3.521.\n",
            "At iteration 1500 the loss is 3.691.\n",
            "At iteration 2000 the loss is 3.582.\n",
            "At iteration 2500 the loss is 3.590.\n",
            "At iteration 3000 the loss is 3.575.\n",
            "Epoch: 7, time taken: 10.7s, validation accuracy: 0.426.\n",
            "At iteration 500 the loss is 3.624.\n",
            "At iteration 1000 the loss is 3.461.\n",
            "At iteration 1500 the loss is 3.475.\n",
            "At iteration 2000 the loss is 3.656.\n",
            "At iteration 2500 the loss is 3.524.\n",
            "At iteration 3000 the loss is 3.550.\n",
            "Epoch: 8, time taken: 10.7s, validation accuracy: 0.428.\n",
            "At iteration 500 the loss is 3.539.\n",
            "At iteration 1000 the loss is 3.615.\n",
            "At iteration 1500 the loss is 3.508.\n",
            "At iteration 2000 the loss is 3.599.\n",
            "At iteration 2500 the loss is 3.504.\n",
            "At iteration 3000 the loss is 3.424.\n",
            "Epoch: 9, time taken: 10.7s, validation accuracy: 0.427.\n",
            "At iteration 500 the loss is 3.470.\n",
            "At iteration 1000 the loss is 3.550.\n",
            "At iteration 1500 the loss is 3.591.\n",
            "At iteration 2000 the loss is 3.565.\n",
            "At iteration 2500 the loss is 3.493.\n",
            "At iteration 3000 the loss is 3.472.\n",
            "Epoch: 10, time taken: 10.7s, validation accuracy: 0.431.\n",
            "At iteration 500 the loss is 3.494.\n",
            "At iteration 1000 the loss is 3.490.\n",
            "At iteration 1500 the loss is 3.393.\n",
            "At iteration 2000 the loss is 3.500.\n",
            "At iteration 2500 the loss is 3.622.\n",
            "At iteration 3000 the loss is 3.532.\n",
            "Epoch: 11, time taken: 10.6s, validation accuracy: 0.429.\n",
            "At iteration 500 the loss is 3.576.\n",
            "At iteration 1000 the loss is 3.441.\n",
            "At iteration 1500 the loss is 3.550.\n",
            "At iteration 2000 the loss is 3.598.\n",
            "At iteration 2500 the loss is 3.367.\n",
            "At iteration 3000 the loss is 3.441.\n",
            "Epoch: 12, time taken: 10.7s, validation accuracy: 0.429.\n",
            "At iteration 500 the loss is 3.466.\n",
            "At iteration 1000 the loss is 3.494.\n",
            "At iteration 1500 the loss is 3.406.\n",
            "At iteration 2000 the loss is 3.639.\n",
            "At iteration 2500 the loss is 3.523.\n",
            "At iteration 3000 the loss is 3.382.\n",
            "Epoch: 13, time taken: 10.7s, validation accuracy: 0.429.\n",
            "At iteration 500 the loss is 3.587.\n",
            "At iteration 1000 the loss is 3.416.\n",
            "At iteration 1500 the loss is 3.560.\n",
            "At iteration 2000 the loss is 3.565.\n",
            "At iteration 2500 the loss is 3.393.\n",
            "At iteration 3000 the loss is 3.569.\n",
            "Epoch: 14, time taken: 10.8s, validation accuracy: 0.427.\n",
            "At iteration 500 the loss is 3.480.\n",
            "At iteration 1000 the loss is 3.424.\n",
            "At iteration 1500 the loss is 3.432.\n",
            "At iteration 2000 the loss is 3.528.\n",
            "At iteration 2500 the loss is 3.541.\n",
            "At iteration 3000 the loss is 3.543.\n",
            "Epoch: 15, time taken: 10.7s, validation accuracy: 0.428.\n",
            "At iteration 500 the loss is 3.515.\n",
            "At iteration 1000 the loss is 3.474.\n",
            "At iteration 1500 the loss is 3.480.\n",
            "At iteration 2000 the loss is 3.527.\n",
            "At iteration 2500 the loss is 3.483.\n",
            "At iteration 3000 the loss is 3.533.\n",
            "Epoch: 16, time taken: 10.7s, validation accuracy: 0.428.\n",
            "At iteration 500 the loss is 3.477.\n",
            "At iteration 1000 the loss is 3.537.\n",
            "At iteration 1500 the loss is 3.572.\n",
            "At iteration 2000 the loss is 3.572.\n",
            "At iteration 2500 the loss is 3.495.\n",
            "At iteration 3000 the loss is 3.491.\n",
            "Epoch: 17, time taken: 10.7s, validation accuracy: 0.427.\n",
            "At iteration 500 the loss is 3.473.\n",
            "At iteration 1000 the loss is 3.417.\n",
            "At iteration 1500 the loss is 3.525.\n",
            "At iteration 2000 the loss is 3.559.\n",
            "At iteration 2500 the loss is 3.550.\n",
            "At iteration 3000 the loss is 3.448.\n",
            "Epoch: 18, time taken: 10.7s, validation accuracy: 0.425.\n",
            "At iteration 500 the loss is 3.489.\n",
            "At iteration 1000 the loss is 3.564.\n",
            "At iteration 1500 the loss is 3.452.\n",
            "At iteration 2000 the loss is 3.455.\n",
            "At iteration 2500 the loss is 3.543.\n",
            "At iteration 3000 the loss is 3.370.\n",
            "Epoch: 19, time taken: 10.7s, validation accuracy: 0.423.\n",
            "At iteration 500 the loss is 3.487.\n",
            "At iteration 1000 the loss is 3.436.\n",
            "At iteration 1500 the loss is 3.341.\n",
            "At iteration 2000 the loss is 3.471.\n",
            "At iteration 2500 the loss is 3.492.\n",
            "At iteration 3000 the loss is 3.413.\n",
            "Epoch: 20, time taken: 10.7s, validation accuracy: 0.422.\n",
            "At iteration 500 the loss is 3.681.\n",
            "At iteration 1000 the loss is 3.406.\n",
            "At iteration 1500 the loss is 3.422.\n",
            "At iteration 2000 the loss is 3.448.\n",
            "At iteration 2500 the loss is 3.488.\n",
            "At iteration 3000 the loss is 3.395.\n",
            "Epoch: 21, time taken: 10.7s, validation accuracy: 0.422.\n",
            "At iteration 500 the loss is 3.422.\n",
            "At iteration 1000 the loss is 3.505.\n",
            "At iteration 1500 the loss is 3.439.\n",
            "At iteration 2000 the loss is 3.512.\n",
            "At iteration 2500 the loss is 3.455.\n",
            "At iteration 3000 the loss is 3.560.\n",
            "Epoch: 22, time taken: 10.7s, validation accuracy: 0.423.\n",
            "At iteration 500 the loss is 3.270.\n",
            "At iteration 1000 the loss is 3.530.\n",
            "At iteration 1500 the loss is 3.587.\n",
            "At iteration 2000 the loss is 3.614.\n",
            "At iteration 2500 the loss is 3.535.\n",
            "At iteration 3000 the loss is 3.656.\n",
            "Epoch: 23, time taken: 10.7s, validation accuracy: 0.420.\n",
            "At iteration 500 the loss is 3.382.\n",
            "At iteration 1000 the loss is 3.556.\n",
            "At iteration 1500 the loss is 3.531.\n",
            "At iteration 2000 the loss is 3.395.\n",
            "At iteration 2500 the loss is 3.485.\n",
            "At iteration 3000 the loss is 3.581.\n",
            "Epoch: 24, time taken: 10.7s, validation accuracy: 0.422.\n",
            "At iteration 500 the loss is 3.366.\n",
            "At iteration 1000 the loss is 3.469.\n",
            "At iteration 1500 the loss is 3.417.\n",
            "At iteration 2000 the loss is 3.547.\n",
            "At iteration 2500 the loss is 3.400.\n",
            "At iteration 3000 the loss is 3.444.\n",
            "Epoch: 25, time taken: 10.7s, validation accuracy: 0.420.\n",
            "At iteration 500 the loss is 3.497.\n",
            "At iteration 1000 the loss is 3.504.\n",
            "At iteration 1500 the loss is 3.397.\n",
            "At iteration 2000 the loss is 3.483.\n",
            "At iteration 2500 the loss is 3.555.\n",
            "At iteration 3000 the loss is 3.512.\n",
            "Epoch: 26, time taken: 10.7s, validation accuracy: 0.418.\n",
            "At iteration 500 the loss is 3.507.\n",
            "At iteration 1000 the loss is 3.524.\n",
            "At iteration 1500 the loss is 3.362.\n",
            "At iteration 2000 the loss is 3.440.\n",
            "At iteration 2500 the loss is 3.317.\n",
            "At iteration 3000 the loss is 3.414.\n",
            "Epoch: 27, time taken: 10.7s, validation accuracy: 0.420.\n",
            "At iteration 500 the loss is 3.667.\n",
            "At iteration 1000 the loss is 3.439.\n",
            "At iteration 1500 the loss is 3.370.\n",
            "At iteration 2000 the loss is 3.468.\n",
            "At iteration 2500 the loss is 3.439.\n",
            "At iteration 3000 the loss is 3.610.\n",
            "Epoch: 28, time taken: 10.7s, validation accuracy: 0.418.\n",
            "At iteration 500 the loss is 3.455.\n",
            "At iteration 1000 the loss is 3.516.\n",
            "At iteration 1500 the loss is 3.533.\n",
            "At iteration 2000 the loss is 3.509.\n",
            "At iteration 2500 the loss is 3.548.\n",
            "At iteration 3000 the loss is 3.409.\n",
            "Epoch: 29, time taken: 10.7s, validation accuracy: 0.417.\n",
            "At iteration 500 the loss is 3.418.\n",
            "At iteration 1000 the loss is 3.453.\n",
            "At iteration 1500 the loss is 3.579.\n",
            "At iteration 2000 the loss is 3.470.\n",
            "At iteration 2500 the loss is 3.524.\n",
            "At iteration 3000 the loss is 3.491.\n",
            "Epoch: 30, time taken: 10.7s, validation accuracy: 0.417.\n"
          ]
        },
        {
          "output_type": "execute_result",
          "data": {
            "text/plain": [
              "[<matplotlib.lines.Line2D at 0x7fc4d8f65d50>]"
            ]
          },
          "metadata": {},
          "execution_count": 41
        },
        {
          "output_type": "display_data",
          "data": {
            "text/plain": [
              "<Figure size 432x288 with 1 Axes>"
            ],
            "image/png": "[encoded data removed]"
          },
          "metadata": {
            "needs_background": "light"
          }
        }
      ]
    },
    {
      "cell_type": "markdown",
      "source": [
        "## Task 7"
      ],
      "metadata": {
        "id": "DrBoj3kFo_kq"
      }
    },
    {
      "cell_type": "code",
      "source": [
        "model = NNPOSTagger(window_size = WINDOW_SIZE, \n",
        "                    vocab_size = len(vocab_words), \n",
        "                     embedding_dim = 300, \n",
        "                     hidden_dim = 128, \n",
        "                     output_dim = len(vocab_ud),\n",
        "                     nonlinearity = nn.Tanh(), \n",
        "                     use_glove = glove_vectors,\n",
        "                     freeze_glove = True).to(device)"
      ],
      "metadata": {
        "colab": {
          "base_uri": "https://localhost:8080/"
        },
        "id": "wQLB94QKpCpZ",
        "outputId": "b1d24c16-5c5a-4a08-a0b2-7e7d4b3f02e8"
      },
      "execution_count": null,
      "outputs": [
        {
          "output_type": "stream",
          "name": "stdout",
          "text": [
            "Using Glove, free gloze set to True\n"
          ]
        }
      ]
    },
    {
      "cell_type": "code",
      "source": [
        "EPOCHS = 30 # epoch\n",
        "optimizer = torch.optim.Adam(model.parameters(), lr=1e-4)\n",
        "\n",
        "accuracies=[]\n",
        "for epoch in range(1, EPOCHS + 1):\n",
        "    epoch_start_time = time.time()\n",
        "    train_an_epoch(train_dataloader)\n",
        "    accuracy = get_accuracy(valid_dataloader)\n",
        "    accuracies.append(accuracy)\n",
        "    time_taken = time.time() - epoch_start_time\n",
        "    print(f'Epoch: {epoch}, time taken: {time_taken:.1f}s, validation accuracy: {accuracy:.3f}.')\n",
        "    \n",
        "plt.plot(range(1, EPOCHS+1), accuracies)"
      ],
      "metadata": {
        "colab": {
          "base_uri": "https://localhost:8080/",
          "height": 1000
        },
        "id": "efC-WOd2pE4O",
        "outputId": "2176fc3b-6c78-4df3-80de-2e90fcc49e81"
      },
      "execution_count": null,
      "outputs": [
        {
          "output_type": "stream",
          "name": "stderr",
          "text": [
            "/usr/local/lib/python3.7/dist-packages/ipykernel_launcher.py:33: UserWarning: Implicit dimension choice for log_softmax has been deprecated. Change the call to include dim=X as an argument.\n"
          ]
        },
        {
          "output_type": "stream",
          "name": "stdout",
          "text": [
            "At iteration 500 the loss is 3.782.\n",
            "At iteration 1000 the loss is 3.841.\n",
            "At iteration 1500 the loss is 3.712.\n",
            "At iteration 2000 the loss is 3.724.\n",
            "At iteration 2500 the loss is 3.784.\n",
            "At iteration 3000 the loss is 3.691.\n",
            "Epoch: 1, time taken: 5.3s, validation accuracy: 0.332.\n",
            "At iteration 500 the loss is 3.872.\n",
            "At iteration 1000 the loss is 3.765.\n",
            "At iteration 1500 the loss is 3.731.\n",
            "At iteration 2000 the loss is 3.674.\n",
            "At iteration 2500 the loss is 3.778.\n",
            "At iteration 3000 the loss is 3.798.\n",
            "Epoch: 2, time taken: 5.2s, validation accuracy: 0.335.\n",
            "At iteration 500 the loss is 3.794.\n",
            "At iteration 1000 the loss is 3.818.\n",
            "At iteration 1500 the loss is 3.814.\n",
            "At iteration 2000 the loss is 3.744.\n",
            "At iteration 2500 the loss is 3.731.\n",
            "At iteration 3000 the loss is 3.779.\n",
            "Epoch: 3, time taken: 5.3s, validation accuracy: 0.334.\n",
            "At iteration 500 the loss is 3.771.\n",
            "At iteration 1000 the loss is 3.770.\n",
            "At iteration 1500 the loss is 3.773.\n",
            "At iteration 2000 the loss is 3.785.\n",
            "At iteration 2500 the loss is 3.837.\n",
            "At iteration 3000 the loss is 3.737.\n",
            "Epoch: 4, time taken: 5.3s, validation accuracy: 0.338.\n",
            "At iteration 500 the loss is 3.840.\n",
            "At iteration 1000 the loss is 3.751.\n",
            "At iteration 1500 the loss is 3.850.\n",
            "At iteration 2000 the loss is 3.755.\n",
            "At iteration 2500 the loss is 3.689.\n",
            "At iteration 3000 the loss is 3.803.\n",
            "Epoch: 5, time taken: 5.3s, validation accuracy: 0.338.\n",
            "At iteration 500 the loss is 3.761.\n",
            "At iteration 1000 the loss is 3.692.\n",
            "At iteration 1500 the loss is 3.791.\n",
            "At iteration 2000 the loss is 3.710.\n",
            "At iteration 2500 the loss is 3.733.\n",
            "At iteration 3000 the loss is 3.746.\n",
            "Epoch: 6, time taken: 5.3s, validation accuracy: 0.340.\n",
            "At iteration 500 the loss is 3.784.\n",
            "At iteration 1000 the loss is 3.834.\n",
            "At iteration 1500 the loss is 3.747.\n",
            "At iteration 2000 the loss is 3.819.\n",
            "At iteration 2500 the loss is 3.652.\n",
            "At iteration 3000 the loss is 3.651.\n",
            "Epoch: 7, time taken: 5.2s, validation accuracy: 0.340.\n",
            "At iteration 500 the loss is 3.691.\n",
            "At iteration 1000 the loss is 3.695.\n",
            "At iteration 1500 the loss is 3.811.\n",
            "At iteration 2000 the loss is 3.724.\n",
            "At iteration 2500 the loss is 3.816.\n",
            "At iteration 3000 the loss is 3.780.\n",
            "Epoch: 8, time taken: 5.2s, validation accuracy: 0.342.\n",
            "At iteration 500 the loss is 3.599.\n",
            "At iteration 1000 the loss is 3.745.\n",
            "At iteration 1500 the loss is 3.670.\n",
            "At iteration 2000 the loss is 3.770.\n",
            "At iteration 2500 the loss is 3.618.\n",
            "At iteration 3000 the loss is 3.738.\n",
            "Epoch: 9, time taken: 5.2s, validation accuracy: 0.343.\n",
            "At iteration 500 the loss is 3.741.\n",
            "At iteration 1000 the loss is 3.869.\n",
            "At iteration 1500 the loss is 3.794.\n",
            "At iteration 2000 the loss is 3.796.\n",
            "At iteration 2500 the loss is 3.645.\n",
            "At iteration 3000 the loss is 3.691.\n",
            "Epoch: 10, time taken: 5.2s, validation accuracy: 0.345.\n",
            "At iteration 500 the loss is 3.696.\n",
            "At iteration 1000 the loss is 3.788.\n",
            "At iteration 1500 the loss is 3.789.\n",
            "At iteration 2000 the loss is 3.743.\n",
            "At iteration 2500 the loss is 3.791.\n",
            "At iteration 3000 the loss is 3.712.\n",
            "Epoch: 11, time taken: 5.2s, validation accuracy: 0.345.\n",
            "At iteration 500 the loss is 3.754.\n",
            "At iteration 1000 the loss is 3.800.\n",
            "At iteration 1500 the loss is 3.717.\n",
            "At iteration 2000 the loss is 3.718.\n",
            "At iteration 2500 the loss is 3.764.\n",
            "At iteration 3000 the loss is 3.734.\n",
            "Epoch: 12, time taken: 5.5s, validation accuracy: 0.345.\n",
            "At iteration 500 the loss is 3.707.\n",
            "At iteration 1000 the loss is 3.804.\n",
            "At iteration 1500 the loss is 3.687.\n",
            "At iteration 2000 the loss is 3.781.\n",
            "At iteration 2500 the loss is 3.721.\n",
            "At iteration 3000 the loss is 3.716.\n",
            "Epoch: 13, time taken: 5.3s, validation accuracy: 0.345.\n",
            "At iteration 500 the loss is 3.666.\n",
            "At iteration 1000 the loss is 3.683.\n",
            "At iteration 1500 the loss is 3.633.\n",
            "At iteration 2000 the loss is 3.670.\n",
            "At iteration 2500 the loss is 3.698.\n",
            "At iteration 3000 the loss is 3.736.\n",
            "Epoch: 14, time taken: 5.3s, validation accuracy: 0.349.\n",
            "At iteration 500 the loss is 3.757.\n",
            "At iteration 1000 the loss is 3.730.\n",
            "At iteration 1500 the loss is 3.672.\n",
            "At iteration 2000 the loss is 3.771.\n",
            "At iteration 2500 the loss is 3.812.\n",
            "At iteration 3000 the loss is 3.785.\n",
            "Epoch: 15, time taken: 5.3s, validation accuracy: 0.347.\n",
            "At iteration 500 the loss is 3.744.\n",
            "At iteration 1000 the loss is 3.708.\n",
            "At iteration 1500 the loss is 3.731.\n",
            "At iteration 2000 the loss is 3.681.\n",
            "At iteration 2500 the loss is 3.694.\n",
            "At iteration 3000 the loss is 3.718.\n",
            "Epoch: 16, time taken: 5.3s, validation accuracy: 0.349.\n",
            "At iteration 500 the loss is 3.649.\n",
            "At iteration 1000 the loss is 3.729.\n",
            "At iteration 1500 the loss is 3.824.\n",
            "At iteration 2000 the loss is 3.724.\n",
            "At iteration 2500 the loss is 3.628.\n",
            "At iteration 3000 the loss is 3.855.\n",
            "Epoch: 17, time taken: 5.3s, validation accuracy: 0.350.\n",
            "At iteration 500 the loss is 3.738.\n",
            "At iteration 1000 the loss is 3.724.\n",
            "At iteration 1500 the loss is 3.715.\n",
            "At iteration 2000 the loss is 3.793.\n",
            "At iteration 2500 the loss is 3.793.\n",
            "At iteration 3000 the loss is 3.678.\n",
            "Epoch: 18, time taken: 5.3s, validation accuracy: 0.349.\n",
            "At iteration 500 the loss is 3.792.\n",
            "At iteration 1000 the loss is 3.659.\n",
            "At iteration 1500 the loss is 3.709.\n",
            "At iteration 2000 the loss is 3.584.\n",
            "At iteration 2500 the loss is 3.728.\n",
            "At iteration 3000 the loss is 3.744.\n",
            "Epoch: 19, time taken: 5.3s, validation accuracy: 0.352.\n",
            "At iteration 500 the loss is 3.721.\n",
            "At iteration 1000 the loss is 3.813.\n",
            "At iteration 1500 the loss is 3.606.\n",
            "At iteration 2000 the loss is 3.728.\n",
            "At iteration 2500 the loss is 3.842.\n",
            "At iteration 3000 the loss is 3.741.\n",
            "Epoch: 20, time taken: 5.2s, validation accuracy: 0.351.\n",
            "At iteration 500 the loss is 3.784.\n",
            "At iteration 1000 the loss is 3.738.\n",
            "At iteration 1500 the loss is 3.805.\n",
            "At iteration 2000 the loss is 3.643.\n",
            "At iteration 2500 the loss is 3.747.\n",
            "At iteration 3000 the loss is 3.810.\n",
            "Epoch: 21, time taken: 5.2s, validation accuracy: 0.351.\n",
            "At iteration 500 the loss is 3.756.\n",
            "At iteration 1000 the loss is 3.806.\n",
            "At iteration 1500 the loss is 3.792.\n",
            "At iteration 2000 the loss is 3.690.\n",
            "At iteration 2500 the loss is 3.752.\n",
            "At iteration 3000 the loss is 3.637.\n",
            "Epoch: 22, time taken: 5.2s, validation accuracy: 0.351.\n",
            "At iteration 500 the loss is 3.675.\n",
            "At iteration 1000 the loss is 3.684.\n",
            "At iteration 1500 the loss is 3.805.\n",
            "At iteration 2000 the loss is 3.787.\n",
            "At iteration 2500 the loss is 3.746.\n",
            "At iteration 3000 the loss is 3.754.\n",
            "Epoch: 23, time taken: 5.2s, validation accuracy: 0.351.\n",
            "At iteration 500 the loss is 3.703.\n",
            "At iteration 1000 the loss is 3.735.\n",
            "At iteration 1500 the loss is 3.645.\n",
            "At iteration 2000 the loss is 3.703.\n",
            "At iteration 2500 the loss is 3.765.\n",
            "At iteration 3000 the loss is 3.711.\n",
            "Epoch: 24, time taken: 5.3s, validation accuracy: 0.349.\n",
            "At iteration 500 the loss is 3.772.\n",
            "At iteration 1000 the loss is 3.749.\n",
            "At iteration 1500 the loss is 3.683.\n",
            "At iteration 2000 the loss is 3.692.\n",
            "At iteration 2500 the loss is 3.680.\n",
            "At iteration 3000 the loss is 3.720.\n",
            "Epoch: 25, time taken: 5.2s, validation accuracy: 0.355.\n",
            "At iteration 500 the loss is 3.758.\n",
            "At iteration 1000 the loss is 3.708.\n",
            "At iteration 1500 the loss is 3.786.\n",
            "At iteration 2000 the loss is 3.850.\n",
            "At iteration 2500 the loss is 3.762.\n",
            "At iteration 3000 the loss is 3.794.\n",
            "Epoch: 26, time taken: 5.2s, validation accuracy: 0.355.\n",
            "At iteration 500 the loss is 3.682.\n",
            "At iteration 1000 the loss is 3.699.\n",
            "At iteration 1500 the loss is 3.798.\n",
            "At iteration 2000 the loss is 3.768.\n",
            "At iteration 2500 the loss is 3.827.\n",
            "At iteration 3000 the loss is 3.790.\n",
            "Epoch: 27, time taken: 5.3s, validation accuracy: 0.353.\n",
            "At iteration 500 the loss is 3.787.\n",
            "At iteration 1000 the loss is 3.776.\n",
            "At iteration 1500 the loss is 3.692.\n",
            "At iteration 2000 the loss is 3.772.\n",
            "At iteration 2500 the loss is 3.713.\n",
            "At iteration 3000 the loss is 3.681.\n",
            "Epoch: 28, time taken: 5.3s, validation accuracy: 0.354.\n",
            "At iteration 500 the loss is 3.722.\n",
            "At iteration 1000 the loss is 3.660.\n",
            "At iteration 1500 the loss is 3.720.\n",
            "At iteration 2000 the loss is 3.639.\n",
            "At iteration 2500 the loss is 3.736.\n",
            "At iteration 3000 the loss is 3.689.\n",
            "Epoch: 29, time taken: 5.3s, validation accuracy: 0.354.\n",
            "At iteration 500 the loss is 3.820.\n",
            "At iteration 1000 the loss is 3.696.\n",
            "At iteration 1500 the loss is 3.744.\n",
            "At iteration 2000 the loss is 3.808.\n",
            "At iteration 2500 the loss is 3.666.\n",
            "At iteration 3000 the loss is 3.615.\n",
            "Epoch: 30, time taken: 5.3s, validation accuracy: 0.352.\n"
          ]
        },
        {
          "output_type": "execute_result",
          "data": {
            "text/plain": [
              "[<matplotlib.lines.Line2D at 0x7fc4e09217d0>]"
            ]
          },
          "metadata": {},
          "execution_count": 44
        },
        {
          "output_type": "display_data",
          "data": {
            "text/plain": [
              "<Figure size 432x288 with 1 Axes>"
            ],
            "image/png": "[encoded data removed]"
          },
          "metadata": {
            "needs_background": "light"
          }
        }
      ]
    },
    {
      "cell_type": "markdown",
      "metadata": {
        "id": "Vw912i-qMCZv"
      },
      "source": [
        "### Extending the model\n",
        "\n",
        "**Task 8** [30]: Try three different ways of your choosing to improve the performance of the model. You may want to vary w, or add additional layers to the network, or increase the size of the hidden vectors $h$, or try with different activation functions. Report on the results you get. Do you think your POS tagger is comparable to a human tagger?\n",
        "\n",
        "This is an open-ended task.  On it you should spend at least half the time as you spend in total on the previous tasks.  "
      ]
    },
    {
      "cell_type": "markdown",
      "source": [
        "**The extentions I made are**\n",
        "\n",
        "* Adding a dropout layer\n",
        "* Increasing the window size to 2\n",
        "* Increasing hidden vector size\n",
        "* Decreased the learning rate"
      ],
      "metadata": {
        "id": "tSLx41FurcHI"
      }
    },
    {
      "cell_type": "code",
      "source": [
        "BATCH_SIZE = 64 # batch size for training\n",
        "W = 2\n",
        "train_0, valid_0, test_0 = train_data_0 = datasets.UDPOS(\n",
        "    split = ('train', 'valid', 'test'))\n",
        "train_data = list(preprocess_data_seq(train_0, W))\n",
        "valid_data = list(preprocess_data_seq(valid_0, W))\n",
        "test_data = list(preprocess_data_seq(test_0, W))\n",
        "\n",
        "train_dataloader = DataLoader(train_data, batch_size=BATCH_SIZE,\n",
        "                              shuffle=True, \n",
        "                              collate_fn=collate_fn)\n",
        "valid_dataloader = DataLoader(valid_data, batch_size=BATCH_SIZE,\n",
        "                              shuffle=False, \n",
        "                              collate_fn=collate_fn)\n",
        "test_dataloader = DataLoader(test_data, batch_size=BATCH_SIZE,\n",
        "                             shuffle=False, \n",
        "                             collate_fn=collate_fn)"
      ],
      "metadata": {
        "id": "WJtvWXZcuPAn"
      },
      "execution_count": 57,
      "outputs": []
    },
    {
      "cell_type": "code",
      "execution_count": 58,
      "metadata": {
        "id": "4ge1D92zMCZv"
      },
      "outputs": [],
      "source": [
        "import torch.nn.functional as F\n",
        "class NNPOSTaggerExtended(nn.Module):\n",
        "    def __init__(self,\n",
        "                 window_size,\n",
        "                 vocab_size, \n",
        "                 embedding_dim, \n",
        "                 hidden_dim, \n",
        "                 output_dim,\n",
        "                 nonlinearity, \n",
        "                 # These are used for later tasks\n",
        "                 use_glove = None, \n",
        "                 freeze_glove = False):      \n",
        "        super(NNPOSTaggerExtended, self).__init__()\n",
        "        self.embedding_dim = embedding_dim\n",
        "        if use_glove is not None:\n",
        "          self.embedding = nn.Embedding.from_pretrained(use_glove, freeze_glove)\n",
        "          print(f\"Using Glove, free gloze set to {freeze_glove}\")\n",
        "        else:\n",
        "          self.embedding = nn.Embedding(vocab_size, embedding_dim)\n",
        "        self.window_size = window_size\n",
        "        self.dropout = nn.Dropout()\n",
        "        self.linear_layer = nn.Linear(embedding_dim, hidden_dim)\n",
        "        self.tanh = nn.Tanh()\n",
        "        self.x = None\n",
        "        self.output_layer = nn.Linear(hidden_dim, output_dim)\n",
        "        \n",
        "    def forward(self, word_idxs_batch):\n",
        "        \n",
        "        embedding = self.embedding(word_idxs_batch)\n",
        "        linear = self.dropout(self.linear_layer(embedding))\n",
        "\n",
        "        tanh_layer = self.dropout(self.tanh(linear))\n",
        "        output = self.dropout(self.output_layer(tanh_layer))\n",
        "        softmax = nn.functional.log_softmax(output)\n",
        "        softmax = softmax.mean(axis = 1)\n",
        "        return softmax"
      ]
    },
    {
      "cell_type": "code",
      "source": [
        "model = NNPOSTaggerExtended(window_size = WINDOW_SIZE, \n",
        "                    vocab_size = len(vocab_words), \n",
        "                     embedding_dim = 300, \n",
        "                     hidden_dim = 250, \n",
        "                     output_dim = len(vocab_ud),\n",
        "                     nonlinearity = nn.Tanh(), \n",
        "                     use_glove = glove_vectors,\n",
        "                     freeze_glove = False).to(device)"
      ],
      "metadata": {
        "colab": {
          "base_uri": "https://localhost:8080/"
        },
        "id": "5vkqR7BXsNX5",
        "outputId": "09e0a579-0374-46d8-d72d-f407f7c17020"
      },
      "execution_count": 59,
      "outputs": [
        {
          "output_type": "stream",
          "name": "stdout",
          "text": [
            "Using Glove, free gloze set to False\n"
          ]
        }
      ]
    },
    {
      "cell_type": "code",
      "source": [
        "EPOCHS = 30 # epoch\n",
        "optimizer = torch.optim.Adam(model.parameters(), lr=1e-5)\n",
        "\n",
        "accuracies=[]\n",
        "for epoch in range(1, EPOCHS + 1):\n",
        "    epoch_start_time = time.time()\n",
        "    train_an_epoch(train_dataloader)\n",
        "    accuracy = get_accuracy(valid_dataloader)\n",
        "    accuracies.append(accuracy)\n",
        "    time_taken = time.time() - epoch_start_time\n",
        "    print(f'Epoch: {epoch}, time taken: {time_taken:.1f}s, validation accuracy: {accuracy:.3f}.')\n",
        "    \n",
        "plt.plot(range(1, EPOCHS+1), accuracies)"
      ],
      "metadata": {
        "colab": {
          "base_uri": "https://localhost:8080/",
          "height": 1000
        },
        "id": "ud8Pl6phsP-w",
        "outputId": "1d00d7ee-b212-428b-fee9-6d046a03715b"
      },
      "execution_count": 61,
      "outputs": [
        {
          "output_type": "stream",
          "name": "stderr",
          "text": [
            "/usr/local/lib/python3.7/dist-packages/ipykernel_launcher.py:34: UserWarning: Implicit dimension choice for log_softmax has been deprecated. Change the call to include dim=X as an argument.\n"
          ]
        },
        {
          "output_type": "stream",
          "name": "stdout",
          "text": [
            "At iteration 500 the loss is 3.968.\n",
            "At iteration 1000 the loss is 4.059.\n",
            "At iteration 1500 the loss is 3.981.\n",
            "At iteration 2000 the loss is 3.975.\n",
            "At iteration 2500 the loss is 4.057.\n",
            "At iteration 3000 the loss is 4.037.\n",
            "Epoch: 1, time taken: 12.0s, validation accuracy: 0.288.\n",
            "At iteration 500 the loss is 3.983.\n",
            "At iteration 1000 the loss is 4.054.\n",
            "At iteration 1500 the loss is 3.987.\n",
            "At iteration 2000 the loss is 4.071.\n",
            "At iteration 2500 the loss is 3.982.\n",
            "At iteration 3000 the loss is 3.995.\n",
            "Epoch: 2, time taken: 11.2s, validation accuracy: 0.288.\n",
            "At iteration 500 the loss is 3.975.\n",
            "At iteration 1000 the loss is 3.962.\n",
            "At iteration 1500 the loss is 4.016.\n",
            "At iteration 2000 the loss is 4.038.\n",
            "At iteration 2500 the loss is 4.010.\n",
            "At iteration 3000 the loss is 3.956.\n",
            "Epoch: 3, time taken: 11.2s, validation accuracy: 0.289.\n",
            "At iteration 500 the loss is 3.947.\n",
            "At iteration 1000 the loss is 3.962.\n",
            "At iteration 1500 the loss is 4.019.\n",
            "At iteration 2000 the loss is 3.966.\n",
            "At iteration 2500 the loss is 4.012.\n",
            "At iteration 3000 the loss is 4.008.\n",
            "Epoch: 4, time taken: 11.2s, validation accuracy: 0.290.\n",
            "At iteration 500 the loss is 4.012.\n",
            "At iteration 1000 the loss is 4.031.\n",
            "At iteration 1500 the loss is 4.006.\n",
            "At iteration 2000 the loss is 3.956.\n",
            "At iteration 2500 the loss is 3.990.\n",
            "At iteration 3000 the loss is 3.931.\n",
            "Epoch: 5, time taken: 11.2s, validation accuracy: 0.290.\n",
            "At iteration 500 the loss is 4.003.\n",
            "At iteration 1000 the loss is 4.049.\n",
            "At iteration 1500 the loss is 4.002.\n",
            "At iteration 2000 the loss is 3.994.\n",
            "At iteration 2500 the loss is 3.974.\n",
            "At iteration 3000 the loss is 4.014.\n",
            "Epoch: 6, time taken: 11.2s, validation accuracy: 0.289.\n",
            "At iteration 500 the loss is 3.997.\n",
            "At iteration 1000 the loss is 3.972.\n",
            "At iteration 1500 the loss is 4.014.\n",
            "At iteration 2000 the loss is 4.017.\n",
            "At iteration 2500 the loss is 3.964.\n",
            "At iteration 3000 the loss is 3.999.\n",
            "Epoch: 7, time taken: 11.2s, validation accuracy: 0.290.\n",
            "At iteration 500 the loss is 3.980.\n",
            "At iteration 1000 the loss is 4.002.\n",
            "At iteration 1500 the loss is 3.997.\n",
            "At iteration 2000 the loss is 3.999.\n",
            "At iteration 2500 the loss is 3.981.\n",
            "At iteration 3000 the loss is 3.935.\n",
            "Epoch: 8, time taken: 11.2s, validation accuracy: 0.290.\n",
            "At iteration 500 the loss is 4.019.\n",
            "At iteration 1000 the loss is 4.024.\n",
            "At iteration 1500 the loss is 3.945.\n",
            "At iteration 2000 the loss is 4.029.\n",
            "At iteration 2500 the loss is 3.987.\n",
            "At iteration 3000 the loss is 4.008.\n",
            "Epoch: 9, time taken: 11.2s, validation accuracy: 0.290.\n",
            "At iteration 500 the loss is 3.973.\n",
            "At iteration 1000 the loss is 4.021.\n",
            "At iteration 1500 the loss is 3.952.\n",
            "At iteration 2000 the loss is 3.984.\n",
            "At iteration 2500 the loss is 4.065.\n",
            "At iteration 3000 the loss is 4.003.\n",
            "Epoch: 10, time taken: 11.2s, validation accuracy: 0.290.\n",
            "At iteration 500 the loss is 3.958.\n",
            "At iteration 1000 the loss is 3.994.\n",
            "At iteration 1500 the loss is 3.939.\n",
            "At iteration 2000 the loss is 3.950.\n",
            "At iteration 2500 the loss is 3.995.\n",
            "At iteration 3000 the loss is 3.949.\n",
            "Epoch: 11, time taken: 11.2s, validation accuracy: 0.289.\n",
            "At iteration 500 the loss is 4.012.\n",
            "At iteration 1000 the loss is 4.001.\n",
            "At iteration 1500 the loss is 4.040.\n",
            "At iteration 2000 the loss is 3.959.\n",
            "At iteration 2500 the loss is 3.935.\n",
            "At iteration 3000 the loss is 3.980.\n",
            "Epoch: 12, time taken: 11.2s, validation accuracy: 0.290.\n",
            "At iteration 500 the loss is 4.000.\n",
            "At iteration 1000 the loss is 4.017.\n",
            "At iteration 1500 the loss is 3.968.\n",
            "At iteration 2000 the loss is 3.948.\n",
            "At iteration 2500 the loss is 3.995.\n",
            "At iteration 3000 the loss is 3.946.\n",
            "Epoch: 13, time taken: 11.2s, validation accuracy: 0.289.\n",
            "At iteration 500 the loss is 4.004.\n",
            "At iteration 1000 the loss is 4.033.\n",
            "At iteration 1500 the loss is 4.001.\n",
            "At iteration 2000 the loss is 3.984.\n",
            "At iteration 2500 the loss is 3.946.\n",
            "At iteration 3000 the loss is 3.952.\n",
            "Epoch: 14, time taken: 11.2s, validation accuracy: 0.290.\n",
            "At iteration 500 the loss is 3.939.\n",
            "At iteration 1000 the loss is 3.991.\n",
            "At iteration 1500 the loss is 4.002.\n",
            "At iteration 2000 the loss is 3.976.\n",
            "At iteration 2500 the loss is 3.898.\n",
            "At iteration 3000 the loss is 4.066.\n",
            "Epoch: 15, time taken: 11.2s, validation accuracy: 0.290.\n",
            "At iteration 500 the loss is 3.946.\n",
            "At iteration 1000 the loss is 3.985.\n",
            "At iteration 1500 the loss is 4.005.\n",
            "At iteration 2000 the loss is 3.975.\n",
            "At iteration 2500 the loss is 4.024.\n",
            "At iteration 3000 the loss is 4.027.\n",
            "Epoch: 16, time taken: 11.2s, validation accuracy: 0.291.\n",
            "At iteration 500 the loss is 3.983.\n",
            "At iteration 1000 the loss is 3.999.\n",
            "At iteration 1500 the loss is 3.948.\n",
            "At iteration 2000 the loss is 4.011.\n",
            "At iteration 2500 the loss is 3.950.\n",
            "At iteration 3000 the loss is 3.968.\n",
            "Epoch: 17, time taken: 11.2s, validation accuracy: 0.291.\n",
            "At iteration 500 the loss is 3.973.\n",
            "At iteration 1000 the loss is 3.967.\n",
            "At iteration 1500 the loss is 3.955.\n",
            "At iteration 2000 the loss is 3.903.\n",
            "At iteration 2500 the loss is 3.991.\n",
            "At iteration 3000 the loss is 4.002.\n",
            "Epoch: 18, time taken: 11.2s, validation accuracy: 0.290.\n",
            "At iteration 500 the loss is 3.990.\n",
            "At iteration 1000 the loss is 3.987.\n",
            "At iteration 1500 the loss is 4.010.\n",
            "At iteration 2000 the loss is 4.014.\n",
            "At iteration 2500 the loss is 3.986.\n",
            "At iteration 3000 the loss is 4.016.\n",
            "Epoch: 19, time taken: 11.1s, validation accuracy: 0.290.\n",
            "At iteration 500 the loss is 3.952.\n",
            "At iteration 1000 the loss is 3.936.\n",
            "At iteration 1500 the loss is 4.028.\n",
            "At iteration 2000 the loss is 3.970.\n",
            "At iteration 2500 the loss is 3.958.\n",
            "At iteration 3000 the loss is 3.960.\n",
            "Epoch: 20, time taken: 11.2s, validation accuracy: 0.290.\n",
            "At iteration 500 the loss is 3.977.\n",
            "At iteration 1000 the loss is 4.032.\n",
            "At iteration 1500 the loss is 3.939.\n",
            "At iteration 2000 the loss is 4.042.\n",
            "At iteration 2500 the loss is 4.019.\n",
            "At iteration 3000 the loss is 3.942.\n",
            "Epoch: 21, time taken: 11.2s, validation accuracy: 0.291.\n",
            "At iteration 500 the loss is 4.007.\n",
            "At iteration 1000 the loss is 4.018.\n",
            "At iteration 1500 the loss is 3.978.\n",
            "At iteration 2000 the loss is 4.013.\n",
            "At iteration 2500 the loss is 3.986.\n",
            "At iteration 3000 the loss is 3.983.\n",
            "Epoch: 22, time taken: 11.2s, validation accuracy: 0.291.\n",
            "At iteration 500 the loss is 3.992.\n",
            "At iteration 1000 the loss is 4.034.\n",
            "At iteration 1500 the loss is 3.980.\n",
            "At iteration 2000 the loss is 4.025.\n",
            "At iteration 2500 the loss is 3.958.\n",
            "At iteration 3000 the loss is 3.960.\n",
            "Epoch: 23, time taken: 11.2s, validation accuracy: 0.291.\n",
            "At iteration 500 the loss is 3.988.\n",
            "At iteration 1000 the loss is 3.977.\n",
            "At iteration 1500 the loss is 4.019.\n",
            "At iteration 2000 the loss is 4.033.\n",
            "At iteration 2500 the loss is 3.975.\n",
            "At iteration 3000 the loss is 4.002.\n",
            "Epoch: 24, time taken: 11.2s, validation accuracy: 0.292.\n",
            "At iteration 500 the loss is 3.971.\n",
            "At iteration 1000 the loss is 3.993.\n",
            "At iteration 1500 the loss is 3.993.\n",
            "At iteration 2000 the loss is 3.973.\n",
            "At iteration 2500 the loss is 4.008.\n",
            "At iteration 3000 the loss is 4.023.\n",
            "Epoch: 25, time taken: 11.2s, validation accuracy: 0.292.\n",
            "At iteration 500 the loss is 4.023.\n",
            "At iteration 1000 the loss is 3.977.\n",
            "At iteration 1500 the loss is 4.009.\n",
            "At iteration 2000 the loss is 3.953.\n",
            "At iteration 2500 the loss is 3.993.\n",
            "At iteration 3000 the loss is 4.009.\n",
            "Epoch: 26, time taken: 11.2s, validation accuracy: 0.291.\n",
            "At iteration 500 the loss is 4.021.\n",
            "At iteration 1000 the loss is 3.969.\n",
            "At iteration 1500 the loss is 3.998.\n",
            "At iteration 2000 the loss is 4.004.\n",
            "At iteration 2500 the loss is 3.992.\n",
            "At iteration 3000 the loss is 3.922.\n",
            "Epoch: 27, time taken: 11.2s, validation accuracy: 0.290.\n",
            "At iteration 500 the loss is 4.012.\n",
            "At iteration 1000 the loss is 4.006.\n",
            "At iteration 1500 the loss is 4.025.\n",
            "At iteration 2000 the loss is 3.897.\n",
            "At iteration 2500 the loss is 3.926.\n",
            "At iteration 3000 the loss is 3.964.\n",
            "Epoch: 28, time taken: 11.1s, validation accuracy: 0.291.\n",
            "At iteration 500 the loss is 3.980.\n",
            "At iteration 1000 the loss is 4.024.\n",
            "At iteration 1500 the loss is 4.003.\n",
            "At iteration 2000 the loss is 4.019.\n",
            "At iteration 2500 the loss is 3.978.\n",
            "At iteration 3000 the loss is 3.996.\n",
            "Epoch: 29, time taken: 11.2s, validation accuracy: 0.290.\n",
            "At iteration 500 the loss is 3.947.\n",
            "At iteration 1000 the loss is 4.016.\n",
            "At iteration 1500 the loss is 4.071.\n",
            "At iteration 2000 the loss is 3.975.\n",
            "At iteration 2500 the loss is 4.020.\n",
            "At iteration 3000 the loss is 4.068.\n",
            "Epoch: 30, time taken: 11.1s, validation accuracy: 0.291.\n"
          ]
        },
        {
          "output_type": "execute_result",
          "data": {
            "text/plain": [
              "[<matplotlib.lines.Line2D at 0x7fc4d9c5bbd0>]"
            ]
          },
          "metadata": {},
          "execution_count": 61
        },
        {
          "output_type": "display_data",
          "data": {
            "text/plain": [
              "<Figure size 432x288 with 1 Axes>"
            ],
            "image/png": "[encoded data removed]"
          },
          "metadata": {
            "needs_background": "light"
          }
        }
      ]
    },
    {
      "cell_type": "code",
      "source": [
        ""
      ],
      "metadata": {
        "id": "iRd9MigdsRNL"
      },
      "execution_count": null,
      "outputs": []
    }
  ],
  "metadata": {
    "kernelspec": {
      "display_name": "Python 3 (ipykernel)",
      "language": "python",
      "name": "python3"
    },
    "language_info": {
      "codemirror_mode": {
        "name": "ipython",
        "version": 3
      },
      "file_extension": ".py",
      "mimetype": "text/x-python",
      "name": "python",
      "nbconvert_exporter": "python",
      "pygments_lexer": "ipython3",
      "version": "3.9.10"
    },
    "colab": {
      "name": "hw3.ipynb",
      "provenance": [],
      "collapsed_sections": [],
      "include_colab_link": true
    },
    "accelerator": "GPU"
  },
  "nbformat": 4,
  "nbformat_minor": 0
}