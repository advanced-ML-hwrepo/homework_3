{
  "cells": [
    {
      "cell_type": "markdown",
      "metadata": {
        "id": "view-in-github",
        "colab_type": "text"
      },
      "source": [
        "<a href=\"https://colab.research.google.com/github/advanced-ML-hwrepo/homework_3/blob/master/hw3.ipynb\" target=\"_parent\"><img src=\"https://colab.research.google.com/assets/colab-badge.svg\" alt=\"Open In Colab\"/></a>"
      ]
    },
    {
      "cell_type": "markdown",
      "metadata": {
        "id": "wNgJbutEMCZc"
      },
      "source": [
        "# HW3\n",
        "\n",
        "In this homeowork, we will\n",
        "- Build a neural network based part of speech (POS) tagger [35 points].\n",
        "- Run the model on a GPU at Google Colab [10].\n",
        "- Extend the model to use pretrained embeddings [15].\n",
        "- Extend the model in some manner of your own choosing [30].\n",
        "\n",
        "There are a total of 8 tasks.\n",
        "\n",
        "Acknowledgements: Part of this homework were adapted from work done by\n",
        "[Ben Trevett](https://github.com/bentrevett) and\n",
        "[Kevin Gimpel](https://home.ttic.edu/~kgimpel/)."
      ]
    },
    {
      "cell_type": "markdown",
      "metadata": {
        "id": "FTMj7KFmMCZg"
      },
      "source": [
        "### Installing libraries\n",
        "\n",
        "This homework requires you to install the following libraries, which are the current latest versions.  They are not, however, the default versions installed by, say, Anaconda.  The code has been tested on these versions; but it is possible it works on other versions as well.\n",
        "\n",
        "- PyTorch 1.11.0\n",
        "- torchtext 0.12.0\n",
        "- TorchData 0.3.0\n",
        "\n",
        "You may need to read some of the documentation for these libraries to solve this homework.\n",
        "\n",
        "Since these libraries are evolving rapidly, you may get some warnings.  Please ignore them unless the code later breaks down.\n",
        "\n",
        "When working with colab, in a new runtime, you'll have to install the above libraries. (Once installed you usually do not need reinstallation if you, e.g., restart the runtime.)  One way to install them is via the following commands (they automatically update PyTorch).\n",
        "\n",
        "`!pip install torchtext==0.12.0`\n",
        "\n",
        "`!pip install torchdata==0.3.0`"
      ]
    },
    {
      "cell_type": "code",
      "source": [
        "#fixing version error \n",
        "!pip install torchtext==0.12.0\n",
        "!pip install torchdata==0.3.0"
      ],
      "metadata": {
        "id": "jUkcBgNayUpc",
        "colab": {
          "base_uri": "https://localhost:8080/"
        },
        "outputId": "d92b9c39-02bf-4a08-b539-81b5ca787f49"
      },
      "execution_count": 1,
      "outputs": [
        {
          "output_type": "stream",
          "name": "stdout",
          "text": [
            "Requirement already satisfied: torchtext==0.12.0 in /usr/local/lib/python3.7/dist-packages (0.12.0)\n",
            "Requirement already satisfied: numpy in /usr/local/lib/python3.7/dist-packages (from torchtext==0.12.0) (1.21.6)\n",
            "Requirement already satisfied: requests in /usr/local/lib/python3.7/dist-packages (from torchtext==0.12.0) (2.23.0)\n",
            "Requirement already satisfied: torch==1.11.0 in /usr/local/lib/python3.7/dist-packages (from torchtext==0.12.0) (1.11.0+cu113)\n",
            "Requirement already satisfied: tqdm in /usr/local/lib/python3.7/dist-packages (from torchtext==0.12.0) (4.64.0)\n",
            "Requirement already satisfied: typing-extensions in /usr/local/lib/python3.7/dist-packages (from torch==1.11.0->torchtext==0.12.0) (4.2.0)\n",
            "Requirement already satisfied: urllib3!=1.25.0,!=1.25.1,<1.26,>=1.21.1 in /usr/local/lib/python3.7/dist-packages (from requests->torchtext==0.12.0) (1.25.11)\n",
            "Requirement already satisfied: chardet<4,>=3.0.2 in /usr/local/lib/python3.7/dist-packages (from requests->torchtext==0.12.0) (3.0.4)\n",
            "Requirement already satisfied: certifi>=2017.4.17 in /usr/local/lib/python3.7/dist-packages (from requests->torchtext==0.12.0) (2021.10.8)\n",
            "Requirement already satisfied: idna<3,>=2.5 in /usr/local/lib/python3.7/dist-packages (from requests->torchtext==0.12.0) (2.10)\n",
            "Requirement already satisfied: torchdata==0.3.0 in /usr/local/lib/python3.7/dist-packages (0.3.0)\n",
            "Requirement already satisfied: torch==1.11.0 in /usr/local/lib/python3.7/dist-packages (from torchdata==0.3.0) (1.11.0+cu113)\n",
            "Requirement already satisfied: requests in /usr/local/lib/python3.7/dist-packages (from torchdata==0.3.0) (2.23.0)\n",
            "Requirement already satisfied: urllib3>=1.25 in /usr/local/lib/python3.7/dist-packages (from torchdata==0.3.0) (1.25.11)\n",
            "Requirement already satisfied: typing-extensions in /usr/local/lib/python3.7/dist-packages (from torch==1.11.0->torchdata==0.3.0) (4.2.0)\n",
            "Requirement already satisfied: chardet<4,>=3.0.2 in /usr/local/lib/python3.7/dist-packages (from requests->torchdata==0.3.0) (3.0.4)\n",
            "Requirement already satisfied: idna<3,>=2.5 in /usr/local/lib/python3.7/dist-packages (from requests->torchdata==0.3.0) (2.10)\n",
            "Requirement already satisfied: certifi>=2017.4.17 in /usr/local/lib/python3.7/dist-packages (from requests->torchdata==0.3.0) (2021.10.8)\n"
          ]
        }
      ]
    },
    {
      "cell_type": "code",
      "execution_count": 2,
      "metadata": {
        "id": "A8sUns9WMCZh"
      },
      "outputs": [],
      "source": [
        "import torch\n",
        "import torch.nn as nn\n",
        "import torch.optim as optim\n",
        "\n",
        "import torchtext\n",
        "from torchtext import data\n",
        "from torchtext import datasets\n",
        "\n",
        "from collections import Counter\n",
        "from torchtext.vocab import vocab\n",
        "\n",
        "import numpy as np\n",
        "import random"
      ]
    },
    {
      "cell_type": "code",
      "execution_count": 3,
      "metadata": {
        "colab": {
          "base_uri": "https://localhost:8080/"
        },
        "id": "ZCeK4J1iMCZj",
        "outputId": "2d64dfee-0415-46a4-e5e6-9eb7915ed521"
      },
      "outputs": [
        {
          "output_type": "execute_result",
          "data": {
            "text/plain": [
              "('1.11.0+cu113', '0.12.0')"
            ]
          },
          "metadata": {},
          "execution_count": 3
        }
      ],
      "source": [
        "# Check the library versions\n",
        "torch.__version__, torchtext.__version__"
      ]
    },
    {
      "cell_type": "code",
      "execution_count": 4,
      "metadata": {
        "id": "TpO4vYGmMCZj"
      },
      "outputs": [],
      "source": [
        "SEED = 30255 # Specify a seed for reproducability\n",
        "\n",
        "random.seed(SEED)\n",
        "np.random.seed(SEED)\n",
        "torch.manual_seed(SEED)\n",
        "if torch.cuda.is_available():\n",
        "    torch.cuda.manual_seed(53113)\n",
        "torch.backends.cudnn.deterministic = True"
      ]
    },
    {
      "cell_type": "markdown",
      "metadata": {
        "id": "at0T6odtMCZk"
      },
      "source": [
        "### Using GPUs\n",
        "\n",
        "We want our code to run on a CPU or on a [GPU](https://en.wikipedia.org/wiki/Graphics_processing_unit) when available, as on Google Colab.  The code will likely run at least five times as fast on a GPU. PyTorch connects with a GPU via the system interface [CUDA](https://en.wikipedia.org/wiki/CUDA).\n",
        "\n",
        "The following tells us whether CUDA/GPU is available or not.  The changes you have to make so that your code can use a GPU when available are surprisingly small. All such changes have already been made in the provided code below. They are:\n",
        "- the data loader needs to place the input to the model appropriately using `to(device).`\n",
        "- similarly, the model object itself needs to be placed appropriately using `to(device).`\n"
      ]
    },
    {
      "cell_type": "code",
      "execution_count": 5,
      "metadata": {
        "colab": {
          "base_uri": "https://localhost:8080/"
        },
        "id": "76f249T0MCZl",
        "outputId": "ecf5f589-1ce2-43f7-9bb0-731e5a0649cb"
      },
      "outputs": [
        {
          "output_type": "execute_result",
          "data": {
            "text/plain": [
              "device(type='cuda')"
            ]
          },
          "metadata": {},
          "execution_count": 5
        }
      ],
      "source": [
        "device = torch.device('cuda' if torch.cuda.is_available() else 'cpu')\n",
        "device"
      ]
    },
    {
      "cell_type": "markdown",
      "metadata": {
        "id": "q8zYzuAyMCZm"
      },
      "source": [
        "### Cache for GloVe\n",
        "\n",
        "If you have already downloaded GloVe in a directory, you can reuse it.  Please change the following if so."
      ]
    },
    {
      "cell_type": "code",
      "execution_count": 6,
      "metadata": {
        "id": "tJ6v4eQ_MCZn"
      },
      "outputs": [],
      "source": [
        "if device == 'cpu':\n",
        "    VECTORS_CACHE_DIR = '/Users/amitabh/.vector_cache'\n",
        "    # Please change above to your cache\n",
        "else:\n",
        "    VECTORS_CACHE_DIR = './.vector_cache'\n",
        "    # This is the default cache on Colab. Caching may not work\n",
        "    # as expected on Colab."
      ]
    },
    {
      "cell_type": "markdown",
      "metadata": {
        "id": "WCenLa8jMCZo"
      },
      "source": [
        "### UDPOS Dataset\n",
        "\n",
        "We'll work with the [`UDPOS`](https://pytorch.org/text/stable/datasets.html#udpos) dataset included with torchtext.  It contains about 12,500 sentences and the POS tags for the each word.  There are, in fact, two sets of tags, based on two different POS tagging standards: [Universal Dependency](https://universaldependencies.org/u/pos/) (UD) and [Penn Treebank](https://www.sketchengine.eu/penn-treebank-tagset/) (PTB). It has additionally about 2000 sentences in the validation and test sets.  The words and corresonding tags are organized into lists."
      ]
    },
    {
      "cell_type": "code",
      "execution_count": 7,
      "metadata": {
        "colab": {
          "base_uri": "https://localhost:8080/"
        },
        "id": "2bZCsuNrMCZp",
        "outputId": "b4356706-82ee-40a6-dfb5-e8c983e7b116"
      },
      "outputs": [
        {
          "output_type": "stream",
          "name": "stdout",
          "text": [
            "The sentence for Example 0 ---\n",
            "['Al', '-', 'Zaman', ':', 'American', 'forces', 'killed', 'Shaikh', 'Abdullah', 'al', '-', 'Ani', ',', 'the', 'preacher', 'at', 'the', 'mosque', 'in', 'the', 'town', 'of', 'Qaim', ',', 'near', 'the', 'Syrian', 'border', '.']\n",
            "The UD tags for Example 0 ---\n",
            "['PROPN', 'PUNCT', 'PROPN', 'PUNCT', 'ADJ', 'NOUN', 'VERB', 'PROPN', 'PROPN', 'PROPN', 'PUNCT', 'PROPN', 'PUNCT', 'DET', 'NOUN', 'ADP', 'DET', 'NOUN', 'ADP', 'DET', 'NOUN', 'ADP', 'PROPN', 'PUNCT', 'ADP', 'DET', 'ADJ', 'NOUN', 'PUNCT']\n",
            "The PTB tags for Example 0 ---\n",
            "['NNP', 'HYPH', 'NNP', ':', 'JJ', 'NNS', 'VBD', 'NNP', 'NNP', 'NNP', 'HYPH', 'NNP', ',', 'DT', 'NN', 'IN', 'DT', 'NN', 'IN', 'DT', 'NN', 'IN', 'NNP', ',', 'IN', 'DT', 'JJ', 'NN', '.']\n",
            "\n",
            "The sentence for Example 1 ---\n",
            "['[', 'This', 'killing', 'of', 'a', 'respected', 'cleric', 'will', 'be', 'causing', 'us', 'trouble', 'for', 'years', 'to', 'come', '.', ']']\n",
            "The UD tags for Example 1 ---\n",
            "['PUNCT', 'DET', 'NOUN', 'ADP', 'DET', 'ADJ', 'NOUN', 'AUX', 'AUX', 'VERB', 'PRON', 'NOUN', 'ADP', 'NOUN', 'PART', 'VERB', 'PUNCT', 'PUNCT']\n",
            "The PTB tags for Example 1 ---\n",
            "['-LRB-', 'DT', 'NN', 'IN', 'DT', 'JJ', 'NN', 'MD', 'VB', 'VBG', 'PRP', 'NN', 'IN', 'NNS', 'TO', 'VB', '.', '-RRB-']\n",
            "\n",
            "The sentence for Example 2 ---\n",
            "['DPA', ':', 'Iraqi', 'authorities', 'announced', 'that', 'they', 'had', 'busted', 'up', '3', 'terrorist', 'cells', 'operating', 'in', 'Baghdad', '.']\n",
            "The UD tags for Example 2 ---\n",
            "['PROPN', 'PUNCT', 'ADJ', 'NOUN', 'VERB', 'SCONJ', 'PRON', 'AUX', 'VERB', 'ADP', 'NUM', 'ADJ', 'NOUN', 'VERB', 'ADP', 'PROPN', 'PUNCT']\n",
            "The PTB tags for Example 2 ---\n",
            "['NNP', ':', 'JJ', 'NNS', 'VBD', 'IN', 'PRP', 'VBD', 'VBN', 'RP', 'CD', 'JJ', 'NNS', 'VBG', 'IN', 'NNP', '.']\n",
            "\n"
          ]
        }
      ],
      "source": [
        "train_iter = datasets.UDPOS(split = 'train')\n",
        "\n",
        "for i, example in enumerate(train_iter):\n",
        "    print(f'The sentence for Example {i} ---')\n",
        "    print(example[0])\n",
        "    print(f'The UD tags for Example {i} ---')\n",
        "    print(example[1])\n",
        "    print(f'The PTB tags for Example {i} ---')\n",
        "    print(example[2])\n",
        "    print()\n",
        "    if i == 2: break"
      ]
    },
    {
      "cell_type": "markdown",
      "metadata": {
        "id": "CiFmiUJzMCZp"
      },
      "source": [
        "### Preprocessing\n",
        "\n",
        "In our neural network-based model we can only accept fixed sized inputs.  Each input corresponds to a subsequence, consisting of a  center word and a number $w$ of words before and after, and the label is the POS tag for the center word. We often refer to the subsequence as a window of size $(2w + 1)$.\n",
        "\n",
        "So given a sentence, say, \"This killing of a respected cleric.' with, tags, say 'DET', 'NOUN', 'ADP', 'DET', 'ADJ', 'NOUN', 'PUNCT' (the last tag is for the period at the end of the sentence), some of our input examples for the model are the following (for $w = 1$):\n",
        "- \"This killing of\", 'NOUN'\n",
        "- \"killing of a\", 'ADP'\n",
        "- \"respected cleric.\", 'NOUN'.\n",
        "\n",
        "But the above scheme would imply that, when $w = 1$, the tags of the first and last words for any sentence would never be part of an example.  To avoid that, we add dummy '\\<s>' and '\\</s>' words, and corresponding tags, to the beginning and end of each sentence.  We need to add as many dummy words as $w$.  So if $w = 2$, we first convert the above sentence and its tags to\n",
        "- \"\\<s> \\<s> This killing of a respected cleric. \\</s> \\</s>' \n",
        "- 'STAG', 'STAG','DET', 'NOUN', 'ADP', 'DET', 'ADJ', 'NOUN', 'PUNCT', 'ETAG', 'ETAG'. \n",
        "\n",
        "**Task 1** [5 points]: Most of the code for preprocessing is given below.  But some parts are missing.  Complete the code."
      ]
    },
    {
      "cell_type": "code",
      "execution_count": 8,
      "metadata": {
        "colab": {
          "base_uri": "https://localhost:8080/"
        },
        "id": "NjoPYbtFMCZq",
        "outputId": "7b3fe0dc-2493-4995-a6f3-6c134db760be"
      },
      "outputs": [
        {
          "output_type": "stream",
          "name": "stdout",
          "text": [
            "Test passed.\n"
          ]
        }
      ],
      "source": [
        "W = 1\n",
        "WINDOW_SIZE = (2 * W + 1)\n",
        "\n",
        "SENT_START_WORD = '<s>'\n",
        "SENT_END_WORD = '</s>'\n",
        "SENT_START_TAG = '<STAG>'\n",
        "SENT_END_TAG = '<ETAG>'\n",
        "\n",
        "\n",
        "def add_sent_start_end(data_iter, w):\n",
        "    for (words, ud_tags, ptb_tags) in data_iter:\n",
        "        new_words = [SENT_START_WORD] * w + words + [SENT_END_WORD] * w\n",
        "        new_ud_tags = [SENT_START_TAG] * w + ud_tags + [SENT_END_TAG] * w\n",
        "        ## added ptb tags\n",
        "        new_ptb_tags = [SENT_START_TAG] * w + ptb_tags + [SENT_END_TAG] * w\n",
        "        yield(new_words, new_ud_tags, new_ptb_tags)\n",
        "        \n",
        "def create_windows(data_iter, w):\n",
        "    window_size = 2*w + 1\n",
        "    for (words, ud_tags, ptb_tags) in data_iter:\n",
        "        words_zip = zip(*[words[i:] for i in range(window_size)])\n",
        "        ud_zip = zip(*[ud_tags[i:] for i in range(window_size)])\n",
        "        ptb_zip = zip(*[ptb_tags[i:] for i in range(window_size)])\n",
        "        for word_sseq, ud_sseq, ptb_sseq in zip(\n",
        "                words_zip, ud_zip, ptb_zip):\n",
        "            yield(word_sseq, ud_sseq, ptb_sseq)\n",
        "            \n",
        "def preprocess_data_seq(data_iter, w):\n",
        "     \n",
        "     for data_iter_i in create_windows(add_sent_start_end(data_iter, w), w):\n",
        "        yield(data_iter_i)\n",
        "\n",
        "\n",
        "def test_preprocess_data_seq():\n",
        "    \n",
        "    # WARNING: The following test assumes a particular default\n",
        "    # sequence of examples in the PyTorch UDPOS dataset. If you\n",
        "    # suspect the sequence is different for your dataset, please\n",
        "    # adapt the test.\n",
        "\n",
        "    train_iter_0 = datasets.UDPOS(split = 'train')    \n",
        "    train_iter_demo = preprocess_data_seq(train_iter_0, 1)\n",
        "    ex0 = (('<s>', 'Al', '-'), \n",
        "           ('<STAG>', 'PROPN', 'PUNCT'), \n",
        "           ('<STAG>', 'NNP', 'HYPH'))\n",
        "    ex1 = (('Al', '-', 'Zaman'), \n",
        "           ('PROPN', 'PUNCT', 'PROPN'), \n",
        "           ('NNP', 'HYPH', 'NNP'))\n",
        "    ex2 = (('-', 'Zaman', ':'), \n",
        "           ('PUNCT', 'PROPN', 'PUNCT'), \n",
        "           ('HYPH', 'NNP', ':'))\n",
        "    assert ex0 == next(train_iter_demo)\n",
        "    assert ex1 == next(train_iter_demo)\n",
        "    assert ex2 == next(train_iter_demo)\n",
        "    print('Test passed.')\n",
        "    \n",
        "test_preprocess_data_seq()"
      ]
    },
    {
      "cell_type": "markdown",
      "metadata": {
        "id": "jFZVoVUvMCZq"
      },
      "source": [
        "### Create vocabularies for words and tags\n",
        "\n",
        "Since the number of tags is reasonably large, we use the `Vocab` class to create objects `vocab_words`, `vocab_ud`, and `vocab_ptb` for both words and the two sets of tags from the training set."
      ]
    },
    {
      "cell_type": "code",
      "execution_count": 9,
      "metadata": {
        "id": "XgnUAz1AMCZr"
      },
      "outputs": [],
      "source": [
        "# It is important to recreate the training set afresh \n",
        "# each time they are used, since they are Python iterators, and\n",
        "# once use, cannot be reused.  One could, however, cast them into\n",
        "# a list, which would store them permanently.\n",
        "\n",
        "train_iter_0 = datasets.UDPOS(split = 'train')    \n",
        "train_iter_vocab = preprocess_data_seq(train_iter_0, 1)\n",
        "\n",
        "counter_words = Counter()\n",
        "counter_ud = Counter()\n",
        "counter_ptb = Counter()\n",
        "for (text, pos_ud, pos_ptb) in train_iter_vocab:\n",
        "    counter_words.update(text)\n",
        "    counter_ud.update(pos_ud)\n",
        "    counter_ptb.update(pos_ptb)"
      ]
    },
    {
      "cell_type": "code",
      "source": [
        "vocab_words = vocab(counter_words, specials = ['<unk>'], special_first = True)\n",
        "vocab_words.set_default_index(0)\n",
        "vocab_ud = vocab(counter_ud)\n",
        "vocab_ptb = vocab(counter_ptb)"
      ],
      "metadata": {
        "id": "hGWVjlqfEIQ8"
      },
      "execution_count": 10,
      "outputs": []
    },
    {
      "cell_type": "markdown",
      "metadata": {
        "id": "2QCHmyQdMCZr"
      },
      "source": [
        "Observe that we set a special word for vocab_words, but none for vocab_ud or vocab_ptb.  Why is that? (You don't have to submit an answer.)"
      ]
    },
    {
      "cell_type": "markdown",
      "metadata": {
        "id": "EeugkxaFMCZr"
      },
      "source": [
        "### Collate function for customized data loader\n",
        "\n",
        "**Task 2** [10]: Write a collate function that takes a batch of examples, and for a given window width and tag type, returns the following\n",
        "- a tensor corresponding to the index of the tag for the center word in each example of the batch. Recall, each example is a window with a width of $(2w + 1)$ words.\n",
        "- a tensor corresponding to the index of each of the words in the example, according the to vocabulary for words.\n",
        "\n",
        "Note: The collate function is called by the data loader with the batch of examples from the data set.  So any additional parameters to the function should have default values.\n",
        "\n",
        "From this task onwards we'll only work with the UD tags."
      ]
    },
    {
      "cell_type": "code",
      "execution_count": 11,
      "metadata": {
        "id": "eh5t6Z_CMCZr",
        "colab": {
          "base_uri": "https://localhost:8080/"
        },
        "outputId": "e3e55aed-7ddb-439c-aad9-f08b9cf08a0a"
      },
      "outputs": [
        {
          "output_type": "stream",
          "name": "stdout",
          "text": [
            "test_collate passed\n"
          ]
        }
      ],
      "source": [
        "from torch.utils.data import DataLoader\n",
        "\n",
        "TAG = 'ud'\n",
        "\n",
        "def collate_fn(batch, w = W, tag = TAG):\n",
        "\n",
        "    word_idxs = []\n",
        "    labels = []\n",
        "    for index, example in enumerate(batch):\n",
        "      if tag == \"ud\":\n",
        "        word_idxs.append(vocab_words(list(example[0])))\n",
        "        pos_tag = example[1][(2 * w + 1) // 2]\n",
        "        labels.append(pos_tag)\n",
        "    word_idxs = torch.tensor(word_idxs)\n",
        "    labels = vocab_ud(labels)\n",
        "    labels = torch.tensor(labels)\n",
        "\n",
        "    # The tensors you return should be placed in the correct device\n",
        "    # as shown below.\n",
        "    return labels.to(device), word_idxs.to(device)\n",
        "\n",
        "\n",
        "def test_collate():\n",
        "    \n",
        "    pos = [5, 6, 1, 4]  \n",
        "    examples = []\n",
        "    for perm in ['03022', '33210', '33211', '11101']:\n",
        "        words = []\n",
        "        utags = []\n",
        "        ptags = []\n",
        "        for ind in perm:\n",
        "            ind = int(ind)\n",
        "            words.append(vocab_words.lookup_token(pos[ind]))\n",
        "            utags.append(vocab_ud.lookup_token(pos[ind]+1))\n",
        "            ptags.append(vocab_ptb.lookup_token(pos[ind]))\n",
        "        examples.append((words, utags, ptags))\n",
        "    lt =  torch.tensor([5, 1, 1, 6]).to(device)\n",
        "    lt =  torch.tensor([6, 2, 2, 7]).to(device)\n",
        "    wt = torch.tensor([\n",
        "        [5, 4, 5, 1, 1],\n",
        "        [4, 4, 1, 6, 5],\n",
        "        [4, 4, 1, 6, 6],\n",
        "        [6, 6, 6, 5, 6]]).to(device)\n",
        "    rlt, rwt = collate_fn(examples, w = 2)\n",
        "    assert torch.equal(lt, rlt)\n",
        "    assert torch.equal(wt, rwt)\n",
        "    print('test_collate passed')\n",
        "\n",
        "test_collate()\n",
        "    "
      ]
    },
    {
      "cell_type": "markdown",
      "metadata": {
        "id": "E2ieHUMOMCZs"
      },
      "source": [
        "### Writing the class for the neural network model\n",
        "\n",
        "**Task 3** [15]: Write a class that implements the following neural network for input $(w_1, w_2, w_3)$ and label $y$ corresponding to tag of $w_2$. (Also discussed in class on April 15, 2021).\n",
        "$$\n",
        "\\begin{eqnarray*}\n",
        "x &=& [E_{[w_1]}, E_{[w_2]}, E_{[w_3]}] \\\\\n",
        "h &=& \\text{tanh}(x W^1 + b^1)\\\\\n",
        "\\tilde{y} & = & hW^2 + b^2\\\\\n",
        "\\hat{y} & = & \\text{softmax}(y)\\\\\n",
        "\\end{eqnarray*}\n",
        "$$\n",
        "The model returns $\\ln \\hat{y}$, and expects the training loop to use `nn.NLLLoss()` to compute the cross entropy loss, given $y$. Assume the embedding has vectors of size $300$, and $h$ is a vector of size $128$.  Please read the documentation for `nn.Embedding(),` `nn.Linear(),`, and `nn.Tanh()` to learn how to use them.\n",
        "\n",
        "*Hint:* Unlike HW2, here the input (for each example in a batch) consist of $(2w+1)$ numbers corresponding to the indices of the words in the window. These are converted to $(2w+1)$ vectors when they are passed to the embedding layer. They have to be concatenated into a single vector of length $(2w+1) \\times 300$ before they are sent to the first linear layer ($W^1$).  Use `reshape()` or `view()` in the `forward()` function below to achieve this.\n"
      ]
    },
    {
      "cell_type": "code",
      "execution_count": 12,
      "metadata": {
        "id": "2UL5ulcXMCZs"
      },
      "outputs": [],
      "source": [
        "import torch.nn.functional as F\n",
        "class NNPOSTagger(nn.Module):\n",
        "    def __init__(self,\n",
        "                 window_size,\n",
        "                 vocab_size, \n",
        "                 embedding_dim, \n",
        "                 hidden_dim, \n",
        "                 output_dim,\n",
        "                 nonlinearity, \n",
        "                 # These are used for later tasks\n",
        "                 use_glove = None, \n",
        "                 freeze_glove = False):      \n",
        "        super(NNPOSTagger, self).__init__()\n",
        "        self.embedding_dim = embedding_dim\n",
        "        if use_glove is not None:\n",
        "          self.embedding = nn.Embedding.from_pretrained(use_glove, freeze_glove)\n",
        "          print(f\"Using Glove, free gloze set to {freeze_glove}\")\n",
        "        else:\n",
        "          self.embedding = nn.Embedding(vocab_size, embedding_dim)\n",
        "        self.window_size = window_size\n",
        "        self.linear_layer = nn.Linear(embedding_dim * self.window_size, hidden_dim)\n",
        "        self.tanh = nn.Tanh()\n",
        "        self.output_layer = nn.Linear(hidden_dim, output_dim)\n",
        "        \n",
        "    def forward(self, word_idxs_batch):\n",
        "        \n",
        "        embedding = self.embedding(word_idxs_batch)\n",
        "        embedding = embedding.reshape(embedding.shape[0], embedding.shape[2] * self.window_size)\n",
        "        linear = self.linear_layer(embedding)\n",
        "        tanh_layer = self.tanh(linear)\n",
        "        output = self.output_layer(tanh_layer)\n",
        "        softmax = nn.functional.log_softmax(output)\n",
        "        return softmax"
      ]
    },
    {
      "cell_type": "markdown",
      "metadata": {
        "id": "ddiPfoSYMCZt"
      },
      "source": [
        "#### Instantiating the model\n",
        "\n",
        "PyTorch uses `to(device)` to specify whether the model is to be used with a CPU or with a GPU/CUDA."
      ]
    },
    {
      "cell_type": "code",
      "execution_count": 13,
      "metadata": {
        "id": "Tx9y0thTMCZt"
      },
      "outputs": [],
      "source": [
        "model = NNPOSTagger(window_size = WINDOW_SIZE, \n",
        "                    vocab_size = len(vocab_words), \n",
        "                     embedding_dim = 300, \n",
        "                     hidden_dim = 128, \n",
        "                     output_dim = len(vocab_ud),\n",
        "                     nonlinearity = nn.Tanh(), \n",
        "                     use_glove = None,\n",
        "                     freeze_glove = False).to(device)"
      ]
    },
    {
      "cell_type": "markdown",
      "metadata": {
        "id": "E8BYSiwxMCZt"
      },
      "source": [
        "### Training an epoch\n",
        "\n",
        "**Task 4** [5]: Write a function to train one epoch of the dataset. This is similar to the code in HW2."
      ]
    },
    {
      "cell_type": "code",
      "execution_count": 14,
      "metadata": {
        "id": "VD8EX7T-MCZt"
      },
      "outputs": [],
      "source": [
        "loss_function = torch.nn.NLLLoss()\n",
        "\n",
        "\n",
        "def train_an_epoch(dataloader, print_ = True):\n",
        "    model.train() # Sets the module in training mode.\n",
        "    log_interval = 500\n",
        "\n",
        "    for idx, (label, text) in enumerate(dataloader):\n",
        "        model.zero_grad()\n",
        "        log_probs = model(text)\n",
        "        loss = loss_function(log_probs, label)\n",
        "        loss.backward()\n",
        "        optimizer.step()\n",
        "        if idx % log_interval == 0 and idx > 0 and print_:\n",
        "            print(f'At iteration {idx} the loss is {loss:.3f}.')"
      ]
    },
    {
      "cell_type": "markdown",
      "metadata": {
        "id": "nazNN1pxMCZt"
      },
      "source": [
        "### Computing the accuracy\n",
        "\n",
        "The function is given below."
      ]
    },
    {
      "cell_type": "code",
      "execution_count": 15,
      "metadata": {
        "id": "Pgp9pm7GMCZu"
      },
      "outputs": [],
      "source": [
        "def get_accuracy(dataloader):\n",
        "    model.eval()\n",
        "    with torch.no_grad():    \n",
        "        total_acc, total_count = 0, 0\n",
        "        for idx, (label, word_idxs) in enumerate(dataloader):\n",
        "            log_probs = model(word_idxs)\n",
        "            total_acc += (log_probs.argmax(1) == label).sum().item()\n",
        "            total_count += label.size(0)\n",
        "    return total_acc/total_count"
      ]
    },
    {
      "cell_type": "markdown",
      "metadata": {
        "id": "kxB67nvLMCZu"
      },
      "source": [
        "### Creating the data loaders"
      ]
    },
    {
      "cell_type": "code",
      "execution_count": 16,
      "metadata": {
        "id": "kpGaYEc3MCZu"
      },
      "outputs": [],
      "source": [
        "BATCH_SIZE = 64 # batch size for training\n",
        "  \n",
        "train_0, valid_0, test_0 = train_data_0 = datasets.UDPOS(\n",
        "    split = ('train', 'valid', 'test'))\n",
        "train_data = list(preprocess_data_seq(train_0, W))\n",
        "valid_data = list(preprocess_data_seq(valid_0, W))\n",
        "test_data = list(preprocess_data_seq(test_0, W))\n",
        "\n",
        "train_dataloader = DataLoader(train_data, batch_size=BATCH_SIZE,\n",
        "                              shuffle=True, \n",
        "                              collate_fn=collate_fn)\n",
        "valid_dataloader = DataLoader(valid_data, batch_size=BATCH_SIZE,\n",
        "                              shuffle=False, \n",
        "                              collate_fn=collate_fn)\n",
        "test_dataloader = DataLoader(test_data, batch_size=BATCH_SIZE,\n",
        "                             shuffle=False, \n",
        "                             collate_fn=collate_fn)"
      ]
    },
    {
      "cell_type": "markdown",
      "metadata": {
        "id": "BaVByquZMCZu"
      },
      "source": [
        "### Training"
      ]
    },
    {
      "cell_type": "code",
      "execution_count": 17,
      "metadata": {
        "id": "XdGX_jhxMCZu",
        "colab": {
          "base_uri": "https://localhost:8080/",
          "height": 684
        },
        "outputId": "1a5f5ffb-a4b5-494e-b1d2-724c9d0bcc1d"
      },
      "outputs": [
        {
          "output_type": "stream",
          "name": "stderr",
          "text": [
            "/usr/local/lib/python3.7/dist-packages/ipykernel_launcher.py:32: UserWarning: Implicit dimension choice for log_softmax has been deprecated. Change the call to include dim=X as an argument.\n"
          ]
        },
        {
          "output_type": "stream",
          "name": "stdout",
          "text": [
            "At iteration 500 the loss is 1.339.\n",
            "At iteration 1000 the loss is 1.250.\n",
            "At iteration 1500 the loss is 1.163.\n",
            "At iteration 2000 the loss is 0.808.\n",
            "At iteration 2500 the loss is 0.739.\n",
            "At iteration 3000 the loss is 0.557.\n",
            "Epoch: 1, time taken: 10.9s, validation accuracy: 0.771.\n",
            "At iteration 500 the loss is 0.542.\n",
            "At iteration 1000 the loss is 0.896.\n",
            "At iteration 1500 the loss is 0.500.\n",
            "At iteration 2000 the loss is 0.671.\n",
            "At iteration 2500 the loss is 0.442.\n",
            "At iteration 3000 the loss is 0.370.\n",
            "Epoch: 2, time taken: 10.8s, validation accuracy: 0.805.\n",
            "At iteration 500 the loss is 0.676.\n",
            "At iteration 1000 the loss is 0.430.\n",
            "At iteration 1500 the loss is 0.402.\n",
            "At iteration 2000 the loss is 0.593.\n",
            "At iteration 2500 the loss is 0.442.\n",
            "At iteration 3000 the loss is 0.215.\n",
            "Epoch: 3, time taken: 10.8s, validation accuracy: 0.824.\n"
          ]
        },
        {
          "output_type": "execute_result",
          "data": {
            "text/plain": [
              "[<matplotlib.lines.Line2D at 0x7f527322ab10>]"
            ]
          },
          "metadata": {},
          "execution_count": 17
        },
        {
          "output_type": "display_data",
          "data": {
            "text/plain": [
              "<Figure size 432x288 with 1 Axes>"
            ],
            "image/png": "[encoded data removed]"
          },
          "metadata": {
            "needs_background": "light"
          }
        }
      ],
      "source": [
        "import time\n",
        "import matplotlib.pyplot as plt\n",
        "%matplotlib inline\n",
        "\n",
        "EPOCHS = 3 # epoch\n",
        "optimizer = torch.optim.Adam(model.parameters(), lr=1e-4)\n",
        "\n",
        "accuracies=[]\n",
        "for epoch in range(1, EPOCHS + 1):\n",
        "    epoch_start_time = time.time()\n",
        "    train_an_epoch(train_dataloader)\n",
        "    accuracy = get_accuracy(valid_dataloader)\n",
        "    accuracies.append(accuracy)\n",
        "    time_taken = time.time() - epoch_start_time\n",
        "    print(f'Epoch: {epoch}, time taken: {time_taken:.1f}s, validation accuracy: {accuracy:.3f}.')\n",
        "    \n",
        "plt.plot(range(1, EPOCHS+1), accuracies)"
      ]
    },
    {
      "cell_type": "markdown",
      "metadata": {
        "id": "KvRLSdl_MCZu"
      },
      "source": [
        "### Running on Google Colab\n",
        "\n",
        "Google Colab provides GPUs on which we can run Jupyter notebooks. These are for free as long as the job takes less than, say, 4 hours. Our job will take much less.\n",
        "\n",
        "Please create an account on Google if you don't have one.  Please read a tutorial on using Colab (such as [this](https://colab.research.google.com/notebooks/intro.ipynb)).  Upload your notebook on Colab. **Change the runtime type to GPU.** Make any changes required to get your code to run on Colab. (Normally there should  be no change required.) \n",
        "\n",
        "For all following tasks that required running your code for several epochs, we recommend developing your code locally, but finally running it on Colab to get the results.\n",
        "\n",
        "**Task 5** [10]: Run the model for a sufficient number of epochs (not more than 30) such that the model shows overfitting, if at all, and submit a pdf of the plot of accuracy against number of epochs. Determine the optimal number of epochs to train for. Write code to estimate the accuracy of your model (using the test set) corresponding to this optimal number of epocs and report this estimated accuracy."
      ]
    },
    {
      "cell_type": "code",
      "source": [
        "model = NNPOSTagger(window_size = WINDOW_SIZE, \n",
        "                    vocab_size = len(vocab_words), \n",
        "                     embedding_dim = 300, \n",
        "                     hidden_dim = 128, \n",
        "                     output_dim = len(vocab_ud),\n",
        "                     nonlinearity = nn.Tanh(), \n",
        "                     use_glove = None,\n",
        "                     freeze_glove = False).to(device)\n",
        "\n",
        "EPOCHS = 10 # epoch\n",
        "optimizer = torch.optim.Adam(model.parameters(), lr=1e-4)\n",
        "\n",
        "accuracies=[]\n",
        "for epoch in range(1, EPOCHS + 1):\n",
        "    epoch_start_time = time.time()\n",
        "    train_an_epoch(train_dataloader)\n",
        "    accuracy = get_accuracy(valid_dataloader)\n",
        "    accuracies.append(accuracy)\n",
        "    time_taken = time.time() - epoch_start_time\n",
        "    print(f'Epoch: {epoch}, time taken: {time_taken:.1f}s, validation accuracy: {accuracy:.3f}.')\n",
        "    \n",
        "plt.plot(range(1, EPOCHS+1), accuracies)"
      ],
      "metadata": {
        "colab": {
          "base_uri": "https://localhost:8080/",
          "height": 1000
        },
        "id": "5HIrie6zKnUc",
        "outputId": "b46999e1-6771-402b-bfb6-783cec191dd8"
      },
      "execution_count": 18,
      "outputs": [
        {
          "output_type": "stream",
          "name": "stderr",
          "text": [
            "/usr/local/lib/python3.7/dist-packages/ipykernel_launcher.py:32: UserWarning: Implicit dimension choice for log_softmax has been deprecated. Change the call to include dim=X as an argument.\n"
          ]
        },
        {
          "output_type": "stream",
          "name": "stdout",
          "text": [
            "At iteration 500 the loss is 1.001.\n",
            "At iteration 1000 the loss is 1.003.\n",
            "At iteration 1500 the loss is 0.844.\n",
            "At iteration 2000 the loss is 1.032.\n",
            "At iteration 2500 the loss is 0.935.\n",
            "At iteration 3000 the loss is 0.749.\n",
            "Epoch: 1, time taken: 10.8s, validation accuracy: 0.765.\n",
            "At iteration 500 the loss is 0.691.\n",
            "At iteration 1000 the loss is 0.603.\n",
            "At iteration 1500 the loss is 0.717.\n",
            "At iteration 2000 the loss is 0.762.\n",
            "At iteration 2500 the loss is 0.434.\n",
            "At iteration 3000 the loss is 0.472.\n",
            "Epoch: 2, time taken: 10.8s, validation accuracy: 0.796.\n",
            "At iteration 500 the loss is 0.579.\n",
            "At iteration 1000 the loss is 0.575.\n",
            "At iteration 1500 the loss is 0.425.\n",
            "At iteration 2000 the loss is 0.294.\n",
            "At iteration 2500 the loss is 0.761.\n",
            "At iteration 3000 the loss is 0.639.\n",
            "Epoch: 3, time taken: 10.9s, validation accuracy: 0.818.\n",
            "At iteration 500 the loss is 0.375.\n",
            "At iteration 1000 the loss is 0.283.\n",
            "At iteration 1500 the loss is 0.376.\n",
            "At iteration 2000 the loss is 0.517.\n",
            "At iteration 2500 the loss is 0.250.\n",
            "At iteration 3000 the loss is 0.366.\n",
            "Epoch: 4, time taken: 10.8s, validation accuracy: 0.835.\n",
            "At iteration 500 the loss is 0.515.\n",
            "At iteration 1000 the loss is 0.334.\n",
            "At iteration 1500 the loss is 0.532.\n",
            "At iteration 2000 the loss is 0.288.\n",
            "At iteration 2500 the loss is 0.478.\n",
            "At iteration 3000 the loss is 0.455.\n",
            "Epoch: 5, time taken: 11.5s, validation accuracy: 0.843.\n",
            "At iteration 500 the loss is 0.616.\n",
            "At iteration 1000 the loss is 0.426.\n",
            "At iteration 1500 the loss is 0.206.\n",
            "At iteration 2000 the loss is 0.241.\n",
            "At iteration 2500 the loss is 0.288.\n",
            "At iteration 3000 the loss is 0.229.\n",
            "Epoch: 6, time taken: 10.9s, validation accuracy: 0.850.\n",
            "At iteration 500 the loss is 0.299.\n",
            "At iteration 1000 the loss is 0.243.\n",
            "At iteration 1500 the loss is 0.372.\n",
            "At iteration 2000 the loss is 0.459.\n",
            "At iteration 2500 the loss is 0.294.\n",
            "At iteration 3000 the loss is 0.178.\n",
            "Epoch: 7, time taken: 10.9s, validation accuracy: 0.860.\n",
            "At iteration 500 the loss is 0.391.\n",
            "At iteration 1000 the loss is 0.116.\n",
            "At iteration 1500 the loss is 0.263.\n",
            "At iteration 2000 the loss is 0.301.\n",
            "At iteration 2500 the loss is 0.323.\n",
            "At iteration 3000 the loss is 0.302.\n",
            "Epoch: 8, time taken: 10.9s, validation accuracy: 0.863.\n",
            "At iteration 500 the loss is 0.144.\n",
            "At iteration 1000 the loss is 0.355.\n",
            "At iteration 1500 the loss is 0.358.\n",
            "At iteration 2000 the loss is 0.221.\n",
            "At iteration 2500 the loss is 0.148.\n",
            "At iteration 3000 the loss is 0.200.\n",
            "Epoch: 9, time taken: 10.9s, validation accuracy: 0.867.\n",
            "At iteration 500 the loss is 0.091.\n",
            "At iteration 1000 the loss is 0.259.\n",
            "At iteration 1500 the loss is 0.184.\n",
            "At iteration 2000 the loss is 0.272.\n",
            "At iteration 2500 the loss is 0.062.\n",
            "At iteration 3000 the loss is 0.151.\n",
            "Epoch: 10, time taken: 10.9s, validation accuracy: 0.871.\n"
          ]
        },
        {
          "output_type": "execute_result",
          "data": {
            "text/plain": [
              "[<matplotlib.lines.Line2D at 0x7f52733dba50>]"
            ]
          },
          "metadata": {},
          "execution_count": 18
        },
        {
          "output_type": "display_data",
          "data": {
            "text/plain": [
              "<Figure size 432x288 with 1 Axes>"
            ],
            "image/png": "[encoded data removed]"
          },
          "metadata": {
            "needs_background": "light"
          }
        }
      ]
    },
    {
      "cell_type": "markdown",
      "metadata": {
        "id": "URz5DUsoMCZu"
      },
      "source": [
        "### Initializing with pre-trained embeddings\n",
        "\n",
        "In the above model, the embedding matrix is initialized to either zero or random vectors, but trained along with the rest of the parameters. It may help to initialize the embedding matrix from GloVe vector embeddings. You may then choose to freeze the embedding matrix (i.e., not update the vectors during training) or train them to adapt to the POS examples. (For further details you may optionally read Section 10.1--3 from the Goldberg textbook.)\n",
        "\n",
        "The following code snippet creates a embedding matrix that has a vector corresponding to each of our `vocab_words` created from the training set."
      ]
    },
    {
      "cell_type": "code",
      "execution_count": 19,
      "metadata": {
        "id": "_7TgLzHEMCZv"
      },
      "outputs": [],
      "source": [
        "from torchtext import vocab\n",
        "\n",
        "glove = vocab.GloVe('6B',cache=VECTORS_CACHE_DIR)\n",
        "glove_vectors = glove.get_vecs_by_tokens(vocab_words.get_itos())"
      ]
    },
    {
      "cell_type": "markdown",
      "metadata": {
        "id": "PTV2pgAiMCZv"
      },
      "source": [
        "**Task 6** [10]: Rewrite/extend the code for the module to initialize the embedding layer with `glove_vectors` created above.  Please read the documentation for the function [`nn.Embedding.from_pretrained()`](https://pytorch.org/docs/master/generated/torch.nn.Embedding.html#torch.nn.Embedding.from_pretrained) to understand how this is done. Submit corresponding plot and report on the performance when the embedding is frozen.\n",
        "\n",
        "**Task 7** [5]: Submit corresponding plot and report on the performance when the embedding is not frozen."
      ]
    },
    {
      "cell_type": "code",
      "source": [
        ""
      ],
      "metadata": {
        "id": "vtYcB1znkfmH"
      },
      "execution_count": 19,
      "outputs": []
    },
    {
      "cell_type": "markdown",
      "source": [
        "## Task 6"
      ],
      "metadata": {
        "id": "xh7U-m-8kgB3"
      }
    },
    {
      "cell_type": "code",
      "source": [
        "model = NNPOSTagger(window_size = WINDOW_SIZE, \n",
        "                    vocab_size = len(vocab_words), \n",
        "                     embedding_dim = 300, \n",
        "                     hidden_dim = 128, \n",
        "                     output_dim = len(vocab_ud),\n",
        "                     nonlinearity = nn.Tanh(), \n",
        "                     use_glove = glove_vectors,\n",
        "                     freeze_glove = False).to(device)"
      ],
      "metadata": {
        "colab": {
          "base_uri": "https://localhost:8080/"
        },
        "id": "D09wEc6bke5O",
        "outputId": "32962431-0df5-460b-d3d0-f1a24a20cf85"
      },
      "execution_count": 20,
      "outputs": [
        {
          "output_type": "stream",
          "name": "stdout",
          "text": [
            "Using Glove, free gloze set to False\n"
          ]
        }
      ]
    },
    {
      "cell_type": "code",
      "source": [
        "EPOCHS = 30 # epoch\n",
        "optimizer = torch.optim.Adam(model.parameters(), lr=1e-4)\n",
        "\n",
        "accuracies=[]\n",
        "for epoch in range(1, EPOCHS + 1):\n",
        "    epoch_start_time = time.time()\n",
        "    train_an_epoch(train_dataloader)\n",
        "    accuracy = get_accuracy(valid_dataloader)\n",
        "    accuracies.append(accuracy)\n",
        "    time_taken = time.time() - epoch_start_time\n",
        "    print(f'Epoch: {epoch}, time taken: {time_taken:.1f}s, validation accuracy: {accuracy:.3f}.')\n",
        "    \n",
        "plt.plot(range(1, EPOCHS+1), accuracies)"
      ],
      "metadata": {
        "colab": {
          "base_uri": "https://localhost:8080/",
          "height": 1000
        },
        "id": "9KjBkGbskmjQ",
        "outputId": "d46b0be3-1c07-4115-a902-08ae55c3c881"
      },
      "execution_count": 21,
      "outputs": [
        {
          "output_type": "stream",
          "name": "stderr",
          "text": [
            "/usr/local/lib/python3.7/dist-packages/ipykernel_launcher.py:32: UserWarning: Implicit dimension choice for log_softmax has been deprecated. Change the call to include dim=X as an argument.\n"
          ]
        },
        {
          "output_type": "stream",
          "name": "stdout",
          "text": [
            "At iteration 500 the loss is 1.305.\n",
            "At iteration 1000 the loss is 0.918.\n",
            "At iteration 1500 the loss is 0.731.\n",
            "At iteration 2000 the loss is 0.737.\n",
            "At iteration 2500 the loss is 0.410.\n",
            "At iteration 3000 the loss is 0.352.\n",
            "Epoch: 1, time taken: 10.9s, validation accuracy: 0.853.\n",
            "At iteration 500 the loss is 0.430.\n",
            "At iteration 1000 the loss is 0.295.\n",
            "At iteration 1500 the loss is 0.183.\n",
            "At iteration 2000 the loss is 0.379.\n",
            "At iteration 2500 the loss is 0.462.\n",
            "At iteration 3000 the loss is 0.422.\n",
            "Epoch: 2, time taken: 10.9s, validation accuracy: 0.891.\n",
            "At iteration 500 the loss is 0.179.\n",
            "At iteration 1000 the loss is 0.389.\n",
            "At iteration 1500 the loss is 0.125.\n",
            "At iteration 2000 the loss is 0.312.\n",
            "At iteration 2500 the loss is 0.149.\n",
            "At iteration 3000 the loss is 0.315.\n",
            "Epoch: 3, time taken: 10.9s, validation accuracy: 0.904.\n",
            "At iteration 500 the loss is 0.313.\n",
            "At iteration 1000 the loss is 0.064.\n",
            "At iteration 1500 the loss is 0.181.\n",
            "At iteration 2000 the loss is 0.099.\n",
            "At iteration 2500 the loss is 0.105.\n",
            "At iteration 3000 the loss is 0.120.\n",
            "Epoch: 4, time taken: 10.9s, validation accuracy: 0.910.\n",
            "At iteration 500 the loss is 0.147.\n",
            "At iteration 1000 the loss is 0.174.\n",
            "At iteration 1500 the loss is 0.033.\n",
            "At iteration 2000 the loss is 0.163.\n",
            "At iteration 2500 the loss is 0.149.\n",
            "At iteration 3000 the loss is 0.089.\n",
            "Epoch: 5, time taken: 10.8s, validation accuracy: 0.912.\n",
            "At iteration 500 the loss is 0.112.\n",
            "At iteration 1000 the loss is 0.139.\n",
            "At iteration 1500 the loss is 0.071.\n",
            "At iteration 2000 the loss is 0.341.\n",
            "At iteration 2500 the loss is 0.199.\n",
            "At iteration 3000 the loss is 0.181.\n",
            "Epoch: 6, time taken: 10.8s, validation accuracy: 0.914.\n",
            "At iteration 500 the loss is 0.020.\n",
            "At iteration 1000 the loss is 0.059.\n",
            "At iteration 1500 the loss is 0.033.\n",
            "At iteration 2000 the loss is 0.162.\n",
            "At iteration 2500 the loss is 0.173.\n",
            "At iteration 3000 the loss is 0.033.\n",
            "Epoch: 7, time taken: 10.9s, validation accuracy: 0.915.\n",
            "At iteration 500 the loss is 0.033.\n",
            "At iteration 1000 the loss is 0.064.\n",
            "At iteration 1500 the loss is 0.204.\n",
            "At iteration 2000 the loss is 0.086.\n",
            "At iteration 2500 the loss is 0.024.\n",
            "At iteration 3000 the loss is 0.123.\n",
            "Epoch: 8, time taken: 10.9s, validation accuracy: 0.914.\n",
            "At iteration 500 the loss is 0.060.\n",
            "At iteration 1000 the loss is 0.025.\n",
            "At iteration 1500 the loss is 0.027.\n",
            "At iteration 2000 the loss is 0.017.\n",
            "At iteration 2500 the loss is 0.051.\n",
            "At iteration 3000 the loss is 0.017.\n",
            "Epoch: 9, time taken: 10.8s, validation accuracy: 0.914.\n",
            "At iteration 500 the loss is 0.040.\n",
            "At iteration 1000 the loss is 0.186.\n",
            "At iteration 1500 the loss is 0.082.\n",
            "At iteration 2000 the loss is 0.028.\n",
            "At iteration 2500 the loss is 0.019.\n",
            "At iteration 3000 the loss is 0.165.\n",
            "Epoch: 10, time taken: 10.8s, validation accuracy: 0.915.\n",
            "At iteration 500 the loss is 0.076.\n",
            "At iteration 1000 the loss is 0.010.\n",
            "At iteration 1500 the loss is 0.070.\n",
            "At iteration 2000 the loss is 0.053.\n",
            "At iteration 2500 the loss is 0.009.\n",
            "At iteration 3000 the loss is 0.056.\n",
            "Epoch: 11, time taken: 10.9s, validation accuracy: 0.915.\n",
            "At iteration 500 the loss is 0.032.\n",
            "At iteration 1000 the loss is 0.028.\n",
            "At iteration 1500 the loss is 0.156.\n",
            "At iteration 2000 the loss is 0.055.\n",
            "At iteration 2500 the loss is 0.085.\n",
            "At iteration 3000 the loss is 0.059.\n",
            "Epoch: 12, time taken: 10.8s, validation accuracy: 0.916.\n",
            "At iteration 500 the loss is 0.124.\n",
            "At iteration 1000 the loss is 0.007.\n",
            "At iteration 1500 the loss is 0.029.\n",
            "At iteration 2000 the loss is 0.015.\n",
            "At iteration 2500 the loss is 0.081.\n",
            "At iteration 3000 the loss is 0.072.\n",
            "Epoch: 13, time taken: 10.8s, validation accuracy: 0.916.\n",
            "At iteration 500 the loss is 0.020.\n",
            "At iteration 1000 the loss is 0.013.\n",
            "At iteration 1500 the loss is 0.012.\n",
            "At iteration 2000 the loss is 0.092.\n",
            "At iteration 2500 the loss is 0.074.\n",
            "At iteration 3000 the loss is 0.019.\n",
            "Epoch: 14, time taken: 11.0s, validation accuracy: 0.915.\n",
            "At iteration 500 the loss is 0.028.\n",
            "At iteration 1000 the loss is 0.075.\n",
            "At iteration 1500 the loss is 0.016.\n",
            "At iteration 2000 the loss is 0.098.\n",
            "At iteration 2500 the loss is 0.020.\n",
            "At iteration 3000 the loss is 0.013.\n",
            "Epoch: 15, time taken: 10.9s, validation accuracy: 0.915.\n",
            "At iteration 500 the loss is 0.007.\n",
            "At iteration 1000 the loss is 0.006.\n",
            "At iteration 1500 the loss is 0.022.\n",
            "At iteration 2000 the loss is 0.081.\n",
            "At iteration 2500 the loss is 0.028.\n",
            "At iteration 3000 the loss is 0.119.\n",
            "Epoch: 16, time taken: 10.8s, validation accuracy: 0.915.\n",
            "At iteration 500 the loss is 0.013.\n",
            "At iteration 1000 the loss is 0.057.\n",
            "At iteration 1500 the loss is 0.069.\n",
            "At iteration 2000 the loss is 0.010.\n",
            "At iteration 2500 the loss is 0.021.\n",
            "At iteration 3000 the loss is 0.056.\n",
            "Epoch: 17, time taken: 10.8s, validation accuracy: 0.914.\n",
            "At iteration 500 the loss is 0.006.\n",
            "At iteration 1000 the loss is 0.024.\n",
            "At iteration 1500 the loss is 0.006.\n",
            "At iteration 2000 the loss is 0.028.\n",
            "At iteration 2500 the loss is 0.005.\n",
            "At iteration 3000 the loss is 0.011.\n",
            "Epoch: 18, time taken: 10.8s, validation accuracy: 0.912.\n",
            "At iteration 500 the loss is 0.011.\n",
            "At iteration 1000 the loss is 0.025.\n",
            "At iteration 1500 the loss is 0.020.\n",
            "At iteration 2000 the loss is 0.016.\n",
            "At iteration 2500 the loss is 0.003.\n",
            "At iteration 3000 the loss is 0.006.\n",
            "Epoch: 19, time taken: 10.8s, validation accuracy: 0.914.\n",
            "At iteration 500 the loss is 0.003.\n",
            "At iteration 1000 the loss is 0.038.\n",
            "At iteration 1500 the loss is 0.012.\n",
            "At iteration 2000 the loss is 0.011.\n",
            "At iteration 2500 the loss is 0.054.\n",
            "At iteration 3000 the loss is 0.011.\n",
            "Epoch: 20, time taken: 10.8s, validation accuracy: 0.913.\n",
            "At iteration 500 the loss is 0.002.\n",
            "At iteration 1000 the loss is 0.043.\n",
            "At iteration 1500 the loss is 0.039.\n",
            "At iteration 2000 the loss is 0.004.\n",
            "At iteration 2500 the loss is 0.005.\n",
            "At iteration 3000 the loss is 0.031.\n",
            "Epoch: 21, time taken: 10.8s, validation accuracy: 0.913.\n",
            "At iteration 500 the loss is 0.001.\n",
            "At iteration 1000 the loss is 0.006.\n",
            "At iteration 1500 the loss is 0.023.\n",
            "At iteration 2000 the loss is 0.004.\n",
            "At iteration 2500 the loss is 0.008.\n",
            "At iteration 3000 the loss is 0.004.\n",
            "Epoch: 22, time taken: 10.8s, validation accuracy: 0.913.\n",
            "At iteration 500 the loss is 0.059.\n",
            "At iteration 1000 the loss is 0.002.\n",
            "At iteration 1500 the loss is 0.021.\n",
            "At iteration 2000 the loss is 0.009.\n",
            "At iteration 2500 the loss is 0.015.\n",
            "At iteration 3000 the loss is 0.006.\n",
            "Epoch: 23, time taken: 10.8s, validation accuracy: 0.914.\n",
            "At iteration 500 the loss is 0.033.\n",
            "At iteration 1000 the loss is 0.071.\n",
            "At iteration 1500 the loss is 0.034.\n",
            "At iteration 2000 the loss is 0.002.\n",
            "At iteration 2500 the loss is 0.081.\n",
            "At iteration 3000 the loss is 0.003.\n",
            "Epoch: 24, time taken: 10.9s, validation accuracy: 0.912.\n",
            "At iteration 500 the loss is 0.004.\n",
            "At iteration 1000 the loss is 0.004.\n",
            "At iteration 1500 the loss is 0.002.\n",
            "At iteration 2000 the loss is 0.002.\n",
            "At iteration 2500 the loss is 0.024.\n",
            "At iteration 3000 the loss is 0.013.\n",
            "Epoch: 25, time taken: 10.9s, validation accuracy: 0.911.\n",
            "At iteration 500 the loss is 0.003.\n",
            "At iteration 1000 the loss is 0.003.\n",
            "At iteration 1500 the loss is 0.076.\n",
            "At iteration 2000 the loss is 0.040.\n",
            "At iteration 2500 the loss is 0.019.\n",
            "At iteration 3000 the loss is 0.022.\n",
            "Epoch: 26, time taken: 10.9s, validation accuracy: 0.912.\n",
            "At iteration 500 the loss is 0.001.\n",
            "At iteration 1000 the loss is 0.001.\n",
            "At iteration 1500 the loss is 0.017.\n",
            "At iteration 2000 the loss is 0.040.\n",
            "At iteration 2500 the loss is 0.025.\n",
            "At iteration 3000 the loss is 0.080.\n",
            "Epoch: 27, time taken: 10.8s, validation accuracy: 0.911.\n",
            "At iteration 500 the loss is 0.004.\n",
            "At iteration 1000 the loss is 0.006.\n",
            "At iteration 1500 the loss is 0.007.\n",
            "At iteration 2000 the loss is 0.021.\n",
            "At iteration 2500 the loss is 0.001.\n",
            "At iteration 3000 the loss is 0.014.\n",
            "Epoch: 28, time taken: 10.8s, validation accuracy: 0.912.\n",
            "At iteration 500 the loss is 0.004.\n",
            "At iteration 1000 the loss is 0.007.\n",
            "At iteration 1500 the loss is 0.002.\n",
            "At iteration 2000 the loss is 0.004.\n",
            "At iteration 2500 the loss is 0.010.\n",
            "At iteration 3000 the loss is 0.006.\n",
            "Epoch: 29, time taken: 10.8s, validation accuracy: 0.912.\n",
            "At iteration 500 the loss is 0.006.\n",
            "At iteration 1000 the loss is 0.000.\n",
            "At iteration 1500 the loss is 0.001.\n",
            "At iteration 2000 the loss is 0.013.\n",
            "At iteration 2500 the loss is 0.001.\n",
            "At iteration 3000 the loss is 0.002.\n",
            "Epoch: 30, time taken: 10.8s, validation accuracy: 0.912.\n"
          ]
        },
        {
          "output_type": "execute_result",
          "data": {
            "text/plain": [
              "[<matplotlib.lines.Line2D at 0x7f525c3a9650>]"
            ]
          },
          "metadata": {},
          "execution_count": 21
        },
        {
          "output_type": "display_data",
          "data": {
            "text/plain": [
              "<Figure size 432x288 with 1 Axes>"
            ],
            "image/png": "[encoded data removed]"
          },
          "metadata": {
            "needs_background": "light"
          }
        }
      ]
    },
    {
      "cell_type": "markdown",
      "source": [
        "## Task 7"
      ],
      "metadata": {
        "id": "DrBoj3kFo_kq"
      }
    },
    {
      "cell_type": "code",
      "source": [
        "model = NNPOSTagger(window_size = WINDOW_SIZE, \n",
        "                    vocab_size = len(vocab_words), \n",
        "                     embedding_dim = 300, \n",
        "                     hidden_dim = 128, \n",
        "                     output_dim = len(vocab_ud),\n",
        "                     nonlinearity = nn.Tanh(), \n",
        "                     use_glove = glove_vectors,\n",
        "                     freeze_glove = True).to(device)"
      ],
      "metadata": {
        "colab": {
          "base_uri": "https://localhost:8080/"
        },
        "id": "wQLB94QKpCpZ",
        "outputId": "1c3f9631-3e52-4b88-8ada-7ff010d7d714"
      },
      "execution_count": 22,
      "outputs": [
        {
          "output_type": "stream",
          "name": "stdout",
          "text": [
            "Using Glove, free gloze set to True\n"
          ]
        }
      ]
    },
    {
      "cell_type": "code",
      "source": [
        "EPOCHS = 30 # epoch\n",
        "optimizer = torch.optim.Adam(model.parameters(), lr=1e-4)\n",
        "\n",
        "accuracies=[]\n",
        "for epoch in range(1, EPOCHS + 1):\n",
        "    epoch_start_time = time.time()\n",
        "    train_an_epoch(train_dataloader)\n",
        "    accuracy = get_accuracy(valid_dataloader)\n",
        "    accuracies.append(accuracy)\n",
        "    time_taken = time.time() - epoch_start_time\n",
        "    print(f'Epoch: {epoch}, time taken: {time_taken:.1f}s, validation accuracy: {accuracy:.3f}.')\n",
        "    \n",
        "plt.plot(range(1, EPOCHS+1), accuracies)"
      ],
      "metadata": {
        "colab": {
          "base_uri": "https://localhost:8080/",
          "height": 1000
        },
        "id": "efC-WOd2pE4O",
        "outputId": "bc37e8c9-db46-473b-e68f-c9f02645afd8"
      },
      "execution_count": 23,
      "outputs": [
        {
          "output_type": "stream",
          "name": "stderr",
          "text": [
            "/usr/local/lib/python3.7/dist-packages/ipykernel_launcher.py:32: UserWarning: Implicit dimension choice for log_softmax has been deprecated. Change the call to include dim=X as an argument.\n"
          ]
        },
        {
          "output_type": "stream",
          "name": "stdout",
          "text": [
            "At iteration 500 the loss is 1.215.\n",
            "At iteration 1000 the loss is 1.114.\n",
            "At iteration 1500 the loss is 0.839.\n",
            "At iteration 2000 the loss is 0.856.\n",
            "At iteration 2500 the loss is 1.100.\n",
            "At iteration 3000 the loss is 0.927.\n",
            "Epoch: 1, time taken: 5.6s, validation accuracy: 0.755.\n",
            "At iteration 500 the loss is 0.713.\n",
            "At iteration 1000 the loss is 0.722.\n",
            "At iteration 1500 the loss is 0.726.\n",
            "At iteration 2000 the loss is 0.616.\n",
            "At iteration 2500 the loss is 0.718.\n",
            "At iteration 3000 the loss is 0.500.\n",
            "Epoch: 2, time taken: 5.6s, validation accuracy: 0.781.\n",
            "At iteration 500 the loss is 0.662.\n",
            "At iteration 1000 the loss is 0.498.\n",
            "At iteration 1500 the loss is 0.549.\n",
            "At iteration 2000 the loss is 0.578.\n",
            "At iteration 2500 the loss is 0.728.\n",
            "At iteration 3000 the loss is 0.533.\n",
            "Epoch: 3, time taken: 5.5s, validation accuracy: 0.793.\n",
            "At iteration 500 the loss is 0.587.\n",
            "At iteration 1000 the loss is 0.555.\n",
            "At iteration 1500 the loss is 0.644.\n",
            "At iteration 2000 the loss is 0.533.\n",
            "At iteration 2500 the loss is 0.424.\n",
            "At iteration 3000 the loss is 0.487.\n",
            "Epoch: 4, time taken: 5.6s, validation accuracy: 0.803.\n",
            "At iteration 500 the loss is 0.464.\n",
            "At iteration 1000 the loss is 0.679.\n",
            "At iteration 1500 the loss is 0.570.\n",
            "At iteration 2000 the loss is 0.453.\n",
            "At iteration 2500 the loss is 0.499.\n",
            "At iteration 3000 the loss is 0.376.\n",
            "Epoch: 5, time taken: 5.6s, validation accuracy: 0.811.\n",
            "At iteration 500 the loss is 0.453.\n",
            "At iteration 1000 the loss is 0.590.\n",
            "At iteration 1500 the loss is 0.550.\n",
            "At iteration 2000 the loss is 0.433.\n",
            "At iteration 2500 the loss is 0.453.\n",
            "At iteration 3000 the loss is 0.724.\n",
            "Epoch: 6, time taken: 5.6s, validation accuracy: 0.819.\n",
            "At iteration 500 the loss is 0.605.\n",
            "At iteration 1000 the loss is 0.460.\n",
            "At iteration 1500 the loss is 0.457.\n",
            "At iteration 2000 the loss is 0.541.\n",
            "At iteration 2500 the loss is 0.704.\n",
            "At iteration 3000 the loss is 0.449.\n",
            "Epoch: 7, time taken: 5.5s, validation accuracy: 0.825.\n",
            "At iteration 500 the loss is 0.497.\n",
            "At iteration 1000 the loss is 0.254.\n",
            "At iteration 1500 the loss is 0.479.\n",
            "At iteration 2000 the loss is 0.452.\n",
            "At iteration 2500 the loss is 0.407.\n",
            "At iteration 3000 the loss is 0.394.\n",
            "Epoch: 8, time taken: 5.5s, validation accuracy: 0.829.\n",
            "At iteration 500 the loss is 0.596.\n",
            "At iteration 1000 the loss is 0.439.\n",
            "At iteration 1500 the loss is 0.519.\n",
            "At iteration 2000 the loss is 0.669.\n",
            "At iteration 2500 the loss is 0.529.\n",
            "At iteration 3000 the loss is 0.503.\n",
            "Epoch: 9, time taken: 5.5s, validation accuracy: 0.830.\n",
            "At iteration 500 the loss is 0.592.\n",
            "At iteration 1000 the loss is 0.379.\n",
            "At iteration 1500 the loss is 0.454.\n",
            "At iteration 2000 the loss is 0.258.\n",
            "At iteration 2500 the loss is 0.471.\n",
            "At iteration 3000 the loss is 0.541.\n",
            "Epoch: 10, time taken: 5.6s, validation accuracy: 0.834.\n",
            "At iteration 500 the loss is 0.542.\n",
            "At iteration 1000 the loss is 0.352.\n",
            "At iteration 1500 the loss is 0.457.\n",
            "At iteration 2000 the loss is 0.393.\n",
            "At iteration 2500 the loss is 0.442.\n",
            "At iteration 3000 the loss is 0.404.\n",
            "Epoch: 11, time taken: 5.5s, validation accuracy: 0.838.\n",
            "At iteration 500 the loss is 0.326.\n",
            "At iteration 1000 the loss is 0.517.\n",
            "At iteration 1500 the loss is 0.308.\n",
            "At iteration 2000 the loss is 0.429.\n",
            "At iteration 2500 the loss is 0.450.\n",
            "At iteration 3000 the loss is 0.369.\n",
            "Epoch: 12, time taken: 5.5s, validation accuracy: 0.837.\n",
            "At iteration 500 the loss is 0.523.\n",
            "At iteration 1000 the loss is 0.501.\n",
            "At iteration 1500 the loss is 0.540.\n",
            "At iteration 2000 the loss is 0.629.\n",
            "At iteration 2500 the loss is 0.290.\n",
            "At iteration 3000 the loss is 0.465.\n",
            "Epoch: 13, time taken: 5.5s, validation accuracy: 0.842.\n",
            "At iteration 500 the loss is 0.556.\n",
            "At iteration 1000 the loss is 0.397.\n",
            "At iteration 1500 the loss is 0.263.\n",
            "At iteration 2000 the loss is 0.374.\n",
            "At iteration 2500 the loss is 0.442.\n",
            "At iteration 3000 the loss is 0.330.\n",
            "Epoch: 14, time taken: 5.8s, validation accuracy: 0.844.\n",
            "At iteration 500 the loss is 0.260.\n",
            "At iteration 1000 the loss is 0.255.\n",
            "At iteration 1500 the loss is 0.502.\n",
            "At iteration 2000 the loss is 0.259.\n",
            "At iteration 2500 the loss is 0.347.\n",
            "At iteration 3000 the loss is 0.417.\n",
            "Epoch: 15, time taken: 5.5s, validation accuracy: 0.844.\n",
            "At iteration 500 the loss is 0.315.\n",
            "At iteration 1000 the loss is 0.475.\n",
            "At iteration 1500 the loss is 0.245.\n",
            "At iteration 2000 the loss is 0.383.\n",
            "At iteration 2500 the loss is 0.233.\n",
            "At iteration 3000 the loss is 0.398.\n",
            "Epoch: 16, time taken: 5.6s, validation accuracy: 0.846.\n",
            "At iteration 500 the loss is 0.265.\n",
            "At iteration 1000 the loss is 0.226.\n",
            "At iteration 1500 the loss is 0.285.\n",
            "At iteration 2000 the loss is 0.161.\n",
            "At iteration 2500 the loss is 0.307.\n",
            "At iteration 3000 the loss is 0.232.\n",
            "Epoch: 17, time taken: 5.6s, validation accuracy: 0.846.\n",
            "At iteration 500 the loss is 0.680.\n",
            "At iteration 1000 the loss is 0.516.\n",
            "At iteration 1500 the loss is 0.203.\n",
            "At iteration 2000 the loss is 0.295.\n",
            "At iteration 2500 the loss is 0.289.\n",
            "At iteration 3000 the loss is 0.452.\n",
            "Epoch: 18, time taken: 5.6s, validation accuracy: 0.848.\n",
            "At iteration 500 the loss is 0.333.\n",
            "At iteration 1000 the loss is 0.418.\n",
            "At iteration 1500 the loss is 0.377.\n",
            "At iteration 2000 the loss is 0.339.\n",
            "At iteration 2500 the loss is 0.356.\n",
            "At iteration 3000 the loss is 0.355.\n",
            "Epoch: 19, time taken: 5.5s, validation accuracy: 0.849.\n",
            "At iteration 500 the loss is 0.478.\n",
            "At iteration 1000 the loss is 0.459.\n",
            "At iteration 1500 the loss is 0.297.\n",
            "At iteration 2000 the loss is 0.437.\n",
            "At iteration 2500 the loss is 0.351.\n",
            "At iteration 3000 the loss is 0.297.\n",
            "Epoch: 20, time taken: 5.6s, validation accuracy: 0.848.\n",
            "At iteration 500 the loss is 0.300.\n",
            "At iteration 1000 the loss is 0.552.\n",
            "At iteration 1500 the loss is 0.251.\n",
            "At iteration 2000 the loss is 0.287.\n",
            "At iteration 2500 the loss is 0.214.\n",
            "At iteration 3000 the loss is 0.500.\n",
            "Epoch: 21, time taken: 5.5s, validation accuracy: 0.850.\n",
            "At iteration 500 the loss is 0.275.\n",
            "At iteration 1000 the loss is 0.260.\n",
            "At iteration 1500 the loss is 0.292.\n",
            "At iteration 2000 the loss is 0.320.\n",
            "At iteration 2500 the loss is 0.260.\n",
            "At iteration 3000 the loss is 0.293.\n",
            "Epoch: 22, time taken: 5.5s, validation accuracy: 0.850.\n",
            "At iteration 500 the loss is 0.309.\n",
            "At iteration 1000 the loss is 0.278.\n",
            "At iteration 1500 the loss is 0.228.\n",
            "At iteration 2000 the loss is 0.189.\n",
            "At iteration 2500 the loss is 0.457.\n",
            "At iteration 3000 the loss is 0.435.\n",
            "Epoch: 23, time taken: 5.5s, validation accuracy: 0.851.\n",
            "At iteration 500 the loss is 0.182.\n",
            "At iteration 1000 the loss is 0.404.\n",
            "At iteration 1500 the loss is 0.187.\n",
            "At iteration 2000 the loss is 0.307.\n",
            "At iteration 2500 the loss is 0.102.\n",
            "At iteration 3000 the loss is 0.259.\n",
            "Epoch: 24, time taken: 5.6s, validation accuracy: 0.850.\n",
            "At iteration 500 the loss is 0.172.\n",
            "At iteration 1000 the loss is 0.325.\n",
            "At iteration 1500 the loss is 0.224.\n",
            "At iteration 2000 the loss is 0.249.\n",
            "At iteration 2500 the loss is 0.467.\n",
            "At iteration 3000 the loss is 0.287.\n",
            "Epoch: 25, time taken: 5.6s, validation accuracy: 0.851.\n",
            "At iteration 500 the loss is 0.351.\n",
            "At iteration 1000 the loss is 0.354.\n",
            "At iteration 1500 the loss is 0.372.\n",
            "At iteration 2000 the loss is 0.220.\n",
            "At iteration 2500 the loss is 0.451.\n",
            "At iteration 3000 the loss is 0.316.\n",
            "Epoch: 26, time taken: 5.5s, validation accuracy: 0.852.\n",
            "At iteration 500 the loss is 0.469.\n",
            "At iteration 1000 the loss is 0.163.\n",
            "At iteration 1500 the loss is 0.194.\n",
            "At iteration 2000 the loss is 0.310.\n",
            "At iteration 2500 the loss is 0.246.\n",
            "At iteration 3000 the loss is 0.218.\n",
            "Epoch: 27, time taken: 5.5s, validation accuracy: 0.851.\n",
            "At iteration 500 the loss is 0.216.\n",
            "At iteration 1000 the loss is 0.308.\n",
            "At iteration 1500 the loss is 0.194.\n",
            "At iteration 2000 the loss is 0.452.\n",
            "At iteration 2500 the loss is 0.230.\n",
            "At iteration 3000 the loss is 0.327.\n",
            "Epoch: 28, time taken: 5.7s, validation accuracy: 0.852.\n",
            "At iteration 500 the loss is 0.159.\n",
            "At iteration 1000 the loss is 0.354.\n",
            "At iteration 1500 the loss is 0.277.\n",
            "At iteration 2000 the loss is 0.235.\n",
            "At iteration 2500 the loss is 0.354.\n",
            "At iteration 3000 the loss is 0.324.\n",
            "Epoch: 29, time taken: 5.7s, validation accuracy: 0.852.\n",
            "At iteration 500 the loss is 0.387.\n",
            "At iteration 1000 the loss is 0.314.\n",
            "At iteration 1500 the loss is 0.380.\n",
            "At iteration 2000 the loss is 0.161.\n",
            "At iteration 2500 the loss is 0.355.\n",
            "At iteration 3000 the loss is 0.324.\n",
            "Epoch: 30, time taken: 5.6s, validation accuracy: 0.851.\n"
          ]
        },
        {
          "output_type": "execute_result",
          "data": {
            "text/plain": [
              "[<matplotlib.lines.Line2D at 0x7f525c1a6450>]"
            ]
          },
          "metadata": {},
          "execution_count": 23
        },
        {
          "output_type": "display_data",
          "data": {
            "text/plain": [
              "<Figure size 432x288 with 1 Axes>"
            ],
            "image/png": "[encoded data removed]"
          },
          "metadata": {
            "needs_background": "light"
          }
        }
      ]
    },
    {
      "cell_type": "markdown",
      "metadata": {
        "id": "Vw912i-qMCZv"
      },
      "source": [
        "### Extending the model\n",
        "\n",
        "**Task 8** [30]: Try three different ways of your choosing to improve the performance of the model. You may want to vary w, or add additional layers to the network, or increase the size of the hidden vectors $h$, or try with different activation functions. Report on the results you get. Do you think your POS tagger is comparable to a human tagger?\n",
        "\n",
        "This is an open-ended task.  On it you should spend at least half the time as you spend in total on the previous tasks.  "
      ]
    },
    {
      "cell_type": "markdown",
      "source": [
        "**The extentions I made are**\n",
        "\n",
        "* Adding a dropout layer\n",
        "* Increasing the window size to 2\n",
        "* Increasing hidden vector size\n",
        "* Decreased the learning rate"
      ],
      "metadata": {
        "id": "tSLx41FurcHI"
      }
    },
    {
      "cell_type": "code",
      "source": [
        "BATCH_SIZE = 64 # batch size for training\n",
        "W = 2\n",
        "WINDOW_SIZE = (2 * W + 1)\n",
        "train_0, valid_0, test_0 = train_data_0 = datasets.UDPOS(\n",
        "    split = ('train', 'valid', 'test'))\n",
        "train_data = list(preprocess_data_seq(train_0, W))\n",
        "valid_data = list(preprocess_data_seq(valid_0, W))\n",
        "test_data = list(preprocess_data_seq(test_0, W))\n",
        "\n",
        "train_dataloader = DataLoader(train_data, batch_size=BATCH_SIZE,\n",
        "                              shuffle=True, \n",
        "                              collate_fn=collate_fn)\n",
        "valid_dataloader = DataLoader(valid_data, batch_size=BATCH_SIZE,\n",
        "                              shuffle=False, \n",
        "                              collate_fn=collate_fn)\n",
        "test_dataloader = DataLoader(test_data, batch_size=BATCH_SIZE,\n",
        "                             shuffle=False, \n",
        "                             collate_fn=collate_fn)"
      ],
      "metadata": {
        "id": "WJtvWXZcuPAn"
      },
      "execution_count": 49,
      "outputs": []
    },
    {
      "cell_type": "code",
      "execution_count": 52,
      "metadata": {
        "id": "4ge1D92zMCZv"
      },
      "outputs": [],
      "source": [
        "import torch.nn.functional as F\n",
        "class NNPOSTaggerExtended(nn.Module):\n",
        "    def __init__(self,\n",
        "                 window_size,\n",
        "                 vocab_size, \n",
        "                 embedding_dim, \n",
        "                 hidden_dim, \n",
        "                 output_dim,\n",
        "                 nonlinearity, \n",
        "                 # These are used for later tasks\n",
        "                 use_glove = None, \n",
        "                 freeze_glove = False):      \n",
        "        super(NNPOSTaggerExtended, self).__init__()\n",
        "        self.embedding_dim = embedding_dim\n",
        "        if use_glove is not None:\n",
        "          self.embedding = nn.Embedding.from_pretrained(use_glove, freeze_glove)\n",
        "          print(f\"Using Glove, free gloze set to {freeze_glove}\")\n",
        "        else:\n",
        "          self.embedding = nn.Embedding(vocab_size, embedding_dim)\n",
        "        self.window_size = window_size\n",
        "        self.dropout = nn.Dropout()\n",
        "        self.linear_layer = nn.Linear(embedding_dim * self.window_size, hidden_dim)\n",
        "        self.tanh = nn.Tanh()\n",
        "        self.output_layer = nn.Linear(hidden_dim, output_dim)\n",
        "        \n",
        "    def forward(self, word_idxs_batch):\n",
        "        \n",
        "        embedding = self.embedding(word_idxs_batch)\n",
        "        embedding = embedding.reshape(embedding.shape[0], embedding.shape[2] * self.window_size)\n",
        "        linear = self.linear_layer(embedding)\n",
        "        linear = self.dropout(linear)\n",
        "\n",
        "        tanh_layer = self.dropout(self.tanh(linear))\n",
        "        output = self.dropout(self.output_layer(tanh_layer))\n",
        "        softmax = nn.functional.log_softmax(output)\n",
        "        return softmax"
      ]
    },
    {
      "cell_type": "code",
      "source": [
        "model = NNPOSTaggerExtended(window_size = WINDOW_SIZE, \n",
        "                    vocab_size = len(vocab_words), \n",
        "                     embedding_dim = 300, \n",
        "                     hidden_dim = 250, \n",
        "                     output_dim = len(vocab_ud),\n",
        "                     nonlinearity = nn.Tanh(), \n",
        "                     use_glove = glove_vectors,\n",
        "                     freeze_glove = False).to(device)"
      ],
      "metadata": {
        "colab": {
          "base_uri": "https://localhost:8080/"
        },
        "id": "5vkqR7BXsNX5",
        "outputId": "8ba679f6-6a2f-4357-d7d8-4208bbb4ea5e"
      },
      "execution_count": 53,
      "outputs": [
        {
          "output_type": "stream",
          "name": "stdout",
          "text": [
            "Using Glove, free gloze set to False\n"
          ]
        }
      ]
    },
    {
      "cell_type": "code",
      "source": [
        "EPOCHS = 30 # epoch\n",
        "optimizer = torch.optim.Adam(model.parameters(), lr=1e-5)\n",
        "\n",
        "accuracies=[]\n",
        "for epoch in range(1, EPOCHS + 1):\n",
        "    epoch_start_time = time.time()\n",
        "    train_an_epoch(train_dataloader)\n",
        "    accuracy = get_accuracy(valid_dataloader)\n",
        "    accuracies.append(accuracy)\n",
        "    time_taken = time.time() - epoch_start_time\n",
        "    print(f'Epoch: {epoch}, time taken: {time_taken:.1f}s, validation accuracy: {accuracy:.3f}.')\n",
        "    \n",
        "plt.plot(range(1, EPOCHS+1), accuracies)"
      ],
      "metadata": {
        "colab": {
          "base_uri": "https://localhost:8080/",
          "height": 1000
        },
        "id": "ud8Pl6phsP-w",
        "outputId": "1e7f914c-57ad-4aed-def6-f49e3943e6fa"
      },
      "execution_count": 54,
      "outputs": [
        {
          "output_type": "stream",
          "name": "stderr",
          "text": [
            "/usr/local/lib/python3.7/dist-packages/ipykernel_launcher.py:35: UserWarning: Implicit dimension choice for log_softmax has been deprecated. Change the call to include dim=X as an argument.\n"
          ]
        },
        {
          "output_type": "stream",
          "name": "stdout",
          "text": [
            "At iteration 500 the loss is 2.709.\n",
            "At iteration 1000 the loss is 2.546.\n",
            "At iteration 1500 the loss is 2.480.\n",
            "At iteration 2000 the loss is 2.470.\n",
            "At iteration 2500 the loss is 2.431.\n",
            "At iteration 3000 the loss is 2.658.\n",
            "Epoch: 1, time taken: 11.6s, validation accuracy: 0.573.\n",
            "At iteration 500 the loss is 2.424.\n",
            "At iteration 1000 the loss is 2.378.\n",
            "At iteration 1500 the loss is 2.097.\n",
            "At iteration 2000 the loss is 2.235.\n",
            "At iteration 2500 the loss is 2.330.\n",
            "At iteration 3000 the loss is 2.124.\n",
            "Epoch: 2, time taken: 11.5s, validation accuracy: 0.630.\n",
            "At iteration 500 the loss is 1.919.\n",
            "At iteration 1000 the loss is 2.220.\n",
            "At iteration 1500 the loss is 2.176.\n",
            "At iteration 2000 the loss is 2.010.\n",
            "At iteration 2500 the loss is 2.285.\n",
            "At iteration 3000 the loss is 1.925.\n",
            "Epoch: 3, time taken: 11.6s, validation accuracy: 0.675.\n",
            "At iteration 500 the loss is 1.983.\n",
            "At iteration 1000 the loss is 1.916.\n",
            "At iteration 1500 the loss is 1.811.\n",
            "At iteration 2000 the loss is 1.899.\n",
            "At iteration 2500 the loss is 2.010.\n",
            "At iteration 3000 the loss is 1.793.\n",
            "Epoch: 4, time taken: 11.4s, validation accuracy: 0.709.\n",
            "At iteration 500 the loss is 2.051.\n",
            "At iteration 1000 the loss is 1.748.\n",
            "At iteration 1500 the loss is 1.903.\n",
            "At iteration 2000 the loss is 1.819.\n",
            "At iteration 2500 the loss is 1.852.\n",
            "At iteration 3000 the loss is 1.863.\n",
            "Epoch: 5, time taken: 12.0s, validation accuracy: 0.736.\n",
            "At iteration 500 the loss is 1.889.\n",
            "At iteration 1000 the loss is 1.908.\n",
            "At iteration 1500 the loss is 1.884.\n",
            "At iteration 2000 the loss is 1.878.\n",
            "At iteration 2500 the loss is 1.801.\n",
            "At iteration 3000 the loss is 1.819.\n",
            "Epoch: 6, time taken: 11.5s, validation accuracy: 0.756.\n",
            "At iteration 500 the loss is 1.698.\n",
            "At iteration 1000 the loss is 1.673.\n",
            "At iteration 1500 the loss is 1.731.\n",
            "At iteration 2000 the loss is 1.684.\n",
            "At iteration 2500 the loss is 1.904.\n",
            "At iteration 3000 the loss is 1.847.\n",
            "Epoch: 7, time taken: 12.2s, validation accuracy: 0.773.\n",
            "At iteration 500 the loss is 1.764.\n",
            "At iteration 1000 the loss is 1.872.\n",
            "At iteration 1500 the loss is 1.921.\n",
            "At iteration 2000 the loss is 1.588.\n",
            "At iteration 2500 the loss is 1.725.\n",
            "At iteration 3000 the loss is 1.935.\n",
            "Epoch: 8, time taken: 11.5s, validation accuracy: 0.786.\n",
            "At iteration 500 the loss is 2.020.\n",
            "At iteration 1000 the loss is 2.018.\n",
            "At iteration 1500 the loss is 1.727.\n",
            "At iteration 2000 the loss is 1.811.\n",
            "At iteration 2500 the loss is 1.862.\n",
            "At iteration 3000 the loss is 1.796.\n",
            "Epoch: 9, time taken: 11.5s, validation accuracy: 0.797.\n",
            "At iteration 500 the loss is 1.665.\n",
            "At iteration 1000 the loss is 1.543.\n",
            "At iteration 1500 the loss is 1.995.\n",
            "At iteration 2000 the loss is 1.847.\n",
            "At iteration 2500 the loss is 1.952.\n",
            "At iteration 3000 the loss is 1.578.\n",
            "Epoch: 10, time taken: 11.5s, validation accuracy: 0.807.\n",
            "At iteration 500 the loss is 1.833.\n",
            "At iteration 1000 the loss is 1.501.\n",
            "At iteration 1500 the loss is 1.752.\n",
            "At iteration 2000 the loss is 1.308.\n",
            "At iteration 2500 the loss is 1.813.\n",
            "At iteration 3000 the loss is 1.552.\n",
            "Epoch: 11, time taken: 12.2s, validation accuracy: 0.815.\n",
            "At iteration 500 the loss is 1.839.\n",
            "At iteration 1000 the loss is 1.613.\n",
            "At iteration 1500 the loss is 1.475.\n",
            "At iteration 2000 the loss is 1.640.\n",
            "At iteration 2500 the loss is 1.902.\n",
            "At iteration 3000 the loss is 1.396.\n",
            "Epoch: 12, time taken: 11.5s, validation accuracy: 0.822.\n",
            "At iteration 500 the loss is 1.717.\n",
            "At iteration 1000 the loss is 1.771.\n",
            "At iteration 1500 the loss is 1.657.\n",
            "At iteration 2000 the loss is 1.626.\n",
            "At iteration 2500 the loss is 1.470.\n",
            "At iteration 3000 the loss is 1.498.\n",
            "Epoch: 13, time taken: 11.5s, validation accuracy: 0.830.\n",
            "At iteration 500 the loss is 1.262.\n",
            "At iteration 1000 the loss is 1.623.\n",
            "At iteration 1500 the loss is 1.608.\n",
            "At iteration 2000 the loss is 1.423.\n",
            "At iteration 2500 the loss is 1.339.\n",
            "At iteration 3000 the loss is 1.707.\n",
            "Epoch: 14, time taken: 11.5s, validation accuracy: 0.835.\n",
            "At iteration 500 the loss is 1.759.\n",
            "At iteration 1000 the loss is 1.553.\n",
            "At iteration 1500 the loss is 1.403.\n",
            "At iteration 2000 the loss is 1.781.\n",
            "At iteration 2500 the loss is 1.749.\n",
            "At iteration 3000 the loss is 1.533.\n",
            "Epoch: 15, time taken: 11.5s, validation accuracy: 0.840.\n",
            "At iteration 500 the loss is 1.555.\n",
            "At iteration 1000 the loss is 1.697.\n",
            "At iteration 1500 the loss is 1.520.\n",
            "At iteration 2000 the loss is 1.622.\n",
            "At iteration 2500 the loss is 1.615.\n",
            "At iteration 3000 the loss is 1.474.\n",
            "Epoch: 16, time taken: 11.5s, validation accuracy: 0.846.\n",
            "At iteration 500 the loss is 1.684.\n",
            "At iteration 1000 the loss is 1.703.\n",
            "At iteration 1500 the loss is 1.833.\n",
            "At iteration 2000 the loss is 1.523.\n",
            "At iteration 2500 the loss is 1.564.\n",
            "At iteration 3000 the loss is 1.523.\n",
            "Epoch: 17, time taken: 11.5s, validation accuracy: 0.851.\n",
            "At iteration 500 the loss is 1.699.\n",
            "At iteration 1000 the loss is 1.263.\n",
            "At iteration 1500 the loss is 1.195.\n",
            "At iteration 2000 the loss is 1.628.\n",
            "At iteration 2500 the loss is 1.540.\n",
            "At iteration 3000 the loss is 1.425.\n",
            "Epoch: 18, time taken: 11.4s, validation accuracy: 0.855.\n",
            "At iteration 500 the loss is 1.369.\n",
            "At iteration 1000 the loss is 1.540.\n",
            "At iteration 1500 the loss is 1.452.\n",
            "At iteration 2000 the loss is 1.737.\n",
            "At iteration 2500 the loss is 1.583.\n",
            "At iteration 3000 the loss is 1.549.\n",
            "Epoch: 19, time taken: 11.5s, validation accuracy: 0.859.\n",
            "At iteration 500 the loss is 1.548.\n",
            "At iteration 1000 the loss is 1.482.\n",
            "At iteration 1500 the loss is 1.658.\n",
            "At iteration 2000 the loss is 1.419.\n",
            "At iteration 2500 the loss is 1.484.\n",
            "At iteration 3000 the loss is 1.510.\n",
            "Epoch: 20, time taken: 11.5s, validation accuracy: 0.862.\n",
            "At iteration 500 the loss is 1.529.\n",
            "At iteration 1000 the loss is 1.674.\n",
            "At iteration 1500 the loss is 1.600.\n",
            "At iteration 2000 the loss is 1.432.\n",
            "At iteration 2500 the loss is 1.635.\n",
            "At iteration 3000 the loss is 1.354.\n",
            "Epoch: 21, time taken: 11.5s, validation accuracy: 0.865.\n",
            "At iteration 500 the loss is 1.555.\n",
            "At iteration 1000 the loss is 1.400.\n",
            "At iteration 1500 the loss is 1.322.\n",
            "At iteration 2000 the loss is 1.251.\n",
            "At iteration 2500 the loss is 1.744.\n",
            "At iteration 3000 the loss is 1.134.\n",
            "Epoch: 22, time taken: 11.4s, validation accuracy: 0.868.\n",
            "At iteration 500 the loss is 1.467.\n",
            "At iteration 1000 the loss is 1.624.\n",
            "At iteration 1500 the loss is 1.450.\n",
            "At iteration 2000 the loss is 1.532.\n",
            "At iteration 2500 the loss is 1.766.\n",
            "At iteration 3000 the loss is 1.599.\n",
            "Epoch: 23, time taken: 11.5s, validation accuracy: 0.870.\n",
            "At iteration 500 the loss is 1.419.\n",
            "At iteration 1000 the loss is 1.587.\n",
            "At iteration 1500 the loss is 1.682.\n",
            "At iteration 2000 the loss is 1.434.\n",
            "At iteration 2500 the loss is 1.527.\n",
            "At iteration 3000 the loss is 1.181.\n",
            "Epoch: 24, time taken: 11.5s, validation accuracy: 0.873.\n",
            "At iteration 500 the loss is 1.391.\n",
            "At iteration 1000 the loss is 0.986.\n",
            "At iteration 1500 the loss is 1.695.\n",
            "At iteration 2000 the loss is 1.292.\n",
            "At iteration 2500 the loss is 1.769.\n",
            "At iteration 3000 the loss is 1.535.\n",
            "Epoch: 25, time taken: 11.4s, validation accuracy: 0.875.\n",
            "At iteration 500 the loss is 1.317.\n",
            "At iteration 1000 the loss is 1.837.\n",
            "At iteration 1500 the loss is 1.279.\n",
            "At iteration 2000 the loss is 1.546.\n",
            "At iteration 2500 the loss is 1.493.\n",
            "At iteration 3000 the loss is 1.207.\n",
            "Epoch: 26, time taken: 11.5s, validation accuracy: 0.877.\n",
            "At iteration 500 the loss is 1.588.\n",
            "At iteration 1000 the loss is 1.631.\n",
            "At iteration 1500 the loss is 1.203.\n",
            "At iteration 2000 the loss is 1.606.\n",
            "At iteration 2500 the loss is 1.141.\n",
            "At iteration 3000 the loss is 1.348.\n",
            "Epoch: 27, time taken: 11.5s, validation accuracy: 0.880.\n",
            "At iteration 500 the loss is 1.458.\n",
            "At iteration 1000 the loss is 1.668.\n",
            "At iteration 1500 the loss is 1.518.\n",
            "At iteration 2000 the loss is 1.374.\n",
            "At iteration 2500 the loss is 1.242.\n",
            "At iteration 3000 the loss is 1.710.\n",
            "Epoch: 28, time taken: 11.5s, validation accuracy: 0.881.\n",
            "At iteration 500 the loss is 1.471.\n",
            "At iteration 1000 the loss is 1.232.\n",
            "At iteration 1500 the loss is 1.448.\n",
            "At iteration 2000 the loss is 1.436.\n",
            "At iteration 2500 the loss is 1.391.\n",
            "At iteration 3000 the loss is 1.296.\n",
            "Epoch: 29, time taken: 11.5s, validation accuracy: 0.882.\n",
            "At iteration 500 the loss is 1.607.\n",
            "At iteration 1000 the loss is 1.506.\n",
            "At iteration 1500 the loss is 1.445.\n",
            "At iteration 2000 the loss is 1.560.\n",
            "At iteration 2500 the loss is 1.237.\n",
            "At iteration 3000 the loss is 1.458.\n",
            "Epoch: 30, time taken: 11.5s, validation accuracy: 0.884.\n"
          ]
        },
        {
          "output_type": "execute_result",
          "data": {
            "text/plain": [
              "[<matplotlib.lines.Line2D at 0x7f52745c5650>]"
            ]
          },
          "metadata": {},
          "execution_count": 54
        },
        {
          "output_type": "display_data",
          "data": {
            "text/plain": [
              "<Figure size 432x288 with 1 Axes>"
            ],
            "image/png": "[encoded data removed]"
          },
          "metadata": {
            "needs_background": "light"
          }
        }
      ]
    }
  ],
  "metadata": {
    "kernelspec": {
      "display_name": "Python 3 (ipykernel)",
      "language": "python",
      "name": "python3"
    },
    "language_info": {
      "codemirror_mode": {
        "name": "ipython",
        "version": 3
      },
      "file_extension": ".py",
      "mimetype": "text/x-python",
      "name": "python",
      "nbconvert_exporter": "python",
      "pygments_lexer": "ipython3",
      "version": "3.9.10"
    },
    "colab": {
      "name": "Copy of hw3.ipynb",
      "provenance": [],
      "collapsed_sections": [],
      "include_colab_link": true
    },
    "accelerator": "GPU"
  },
  "nbformat": 4,
  "nbformat_minor": 0
}